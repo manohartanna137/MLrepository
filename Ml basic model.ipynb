{
 "cells": [
  {
   "cell_type": "code",
   "execution_count": 0,
   "metadata": {
    "application/vnd.databricks.v1+cell": {
     "cellMetadata": {
      "byteLimit": 2048000,
      "rowLimit": 10000
     },
     "inputWidgets": {},
     "nuid": "74b93b19-fa12-4b1e-aaa8-345b7efc1e4a",
     "showTitle": false,
     "title": ""
    }
   },
   "outputs": [],
   "source": [
    "import pandas as pd"
   ]
  },
  {
   "cell_type": "code",
   "execution_count": 0,
   "metadata": {
    "application/vnd.databricks.v1+cell": {
     "cellMetadata": {
      "byteLimit": 2048000,
      "rowLimit": 10000
     },
     "inputWidgets": {},
     "nuid": "b3af0787-eed7-4f07-be1f-bd29270abbf5",
     "showTitle": false,
     "title": ""
    }
   },
   "outputs": [],
   "source": [
    "df = spark.read.csv('dbfs:/FileStore/Salary_Data.csv',header = True)"
   ]
  },
  {
   "cell_type": "code",
   "execution_count": 0,
   "metadata": {
    "application/vnd.databricks.v1+cell": {
     "cellMetadata": {
      "byteLimit": 2048000,
      "rowLimit": 10000
     },
     "inputWidgets": {},
     "nuid": "bfb9250e-cf3f-49cb-9292-261d7d36655c",
     "showTitle": false,
     "title": ""
    }
   },
   "outputs": [],
   "source": [
    "df_initial = df.toPandas()"
   ]
  },
  {
   "cell_type": "code",
   "execution_count": 0,
   "metadata": {
    "application/vnd.databricks.v1+cell": {
     "cellMetadata": {
      "byteLimit": 2048000,
      "rowLimit": 10000
     },
     "inputWidgets": {},
     "nuid": "3b004de4-3c36-4df5-a992-cd9ba9253106",
     "showTitle": false,
     "title": ""
    }
   },
   "outputs": [
    {
     "output_type": "display_data",
     "data": {
      "text/html": [
       "<div>\n",
       "<style scoped>\n",
       "    .dataframe tbody tr th:only-of-type {\n",
       "        vertical-align: middle;\n",
       "    }\n",
       "\n",
       "    .dataframe tbody tr th {\n",
       "        vertical-align: top;\n",
       "    }\n",
       "\n",
       "    .dataframe thead th {\n",
       "        text-align: right;\n",
       "    }\n",
       "</style>\n",
       "<table border=\"1\" class=\"dataframe\">\n",
       "  <thead>\n",
       "    <tr style=\"text-align: right;\">\n",
       "      <th></th>\n",
       "      <th>Age</th>\n",
       "      <th>Gender</th>\n",
       "      <th>Education Level</th>\n",
       "      <th>Job Title</th>\n",
       "      <th>Years of Experience</th>\n",
       "      <th>Salary</th>\n",
       "    </tr>\n",
       "  </thead>\n",
       "  <tbody>\n",
       "    <tr>\n",
       "      <th>0</th>\n",
       "      <td>32</td>\n",
       "      <td>Male</td>\n",
       "      <td>Bachelor's</td>\n",
       "      <td>Software Engineer</td>\n",
       "      <td>5</td>\n",
       "      <td>90000</td>\n",
       "    </tr>\n",
       "    <tr>\n",
       "      <th>1</th>\n",
       "      <td>28</td>\n",
       "      <td>Female</td>\n",
       "      <td>Master's</td>\n",
       "      <td>Data Analyst</td>\n",
       "      <td>3</td>\n",
       "      <td>65000</td>\n",
       "    </tr>\n",
       "    <tr>\n",
       "      <th>2</th>\n",
       "      <td>45</td>\n",
       "      <td>Male</td>\n",
       "      <td>PhD</td>\n",
       "      <td>Senior Manager</td>\n",
       "      <td>15</td>\n",
       "      <td>150000</td>\n",
       "    </tr>\n",
       "    <tr>\n",
       "      <th>3</th>\n",
       "      <td>36</td>\n",
       "      <td>Female</td>\n",
       "      <td>Bachelor's</td>\n",
       "      <td>Sales Associate</td>\n",
       "      <td>7</td>\n",
       "      <td>60000</td>\n",
       "    </tr>\n",
       "    <tr>\n",
       "      <th>4</th>\n",
       "      <td>52</td>\n",
       "      <td>Male</td>\n",
       "      <td>Master's</td>\n",
       "      <td>Director</td>\n",
       "      <td>20</td>\n",
       "      <td>200000</td>\n",
       "    </tr>\n",
       "    <tr>\n",
       "      <th>5</th>\n",
       "      <td>29</td>\n",
       "      <td>Male</td>\n",
       "      <td>Bachelor's</td>\n",
       "      <td>Marketing Analyst</td>\n",
       "      <td>2</td>\n",
       "      <td>55000</td>\n",
       "    </tr>\n",
       "    <tr>\n",
       "      <th>6</th>\n",
       "      <td>42</td>\n",
       "      <td>Female</td>\n",
       "      <td>Master's</td>\n",
       "      <td>Product Manager</td>\n",
       "      <td>12</td>\n",
       "      <td>120000</td>\n",
       "    </tr>\n",
       "    <tr>\n",
       "      <th>7</th>\n",
       "      <td>31</td>\n",
       "      <td>Male</td>\n",
       "      <td>Bachelor's</td>\n",
       "      <td>Sales Manager</td>\n",
       "      <td>4</td>\n",
       "      <td>80000</td>\n",
       "    </tr>\n",
       "    <tr>\n",
       "      <th>8</th>\n",
       "      <td>26</td>\n",
       "      <td>Female</td>\n",
       "      <td>Bachelor's</td>\n",
       "      <td>Marketing Coordinator</td>\n",
       "      <td>1</td>\n",
       "      <td>45000</td>\n",
       "    </tr>\n",
       "    <tr>\n",
       "      <th>9</th>\n",
       "      <td>38</td>\n",
       "      <td>Male</td>\n",
       "      <td>PhD</td>\n",
       "      <td>Senior Scientist</td>\n",
       "      <td>10</td>\n",
       "      <td>110000</td>\n",
       "    </tr>\n",
       "    <tr>\n",
       "      <th>10</th>\n",
       "      <td>29</td>\n",
       "      <td>Male</td>\n",
       "      <td>Master's</td>\n",
       "      <td>Software Developer</td>\n",
       "      <td>3</td>\n",
       "      <td>75000</td>\n",
       "    </tr>\n",
       "    <tr>\n",
       "      <th>11</th>\n",
       "      <td>48</td>\n",
       "      <td>Female</td>\n",
       "      <td>Bachelor's</td>\n",
       "      <td>HR Manager</td>\n",
       "      <td>18</td>\n",
       "      <td>140000</td>\n",
       "    </tr>\n",
       "    <tr>\n",
       "      <th>12</th>\n",
       "      <td>35</td>\n",
       "      <td>Male</td>\n",
       "      <td>Bachelor's</td>\n",
       "      <td>Financial Analyst</td>\n",
       "      <td>6</td>\n",
       "      <td>65000</td>\n",
       "    </tr>\n",
       "    <tr>\n",
       "      <th>13</th>\n",
       "      <td>40</td>\n",
       "      <td>Female</td>\n",
       "      <td>Master's</td>\n",
       "      <td>Project Manager</td>\n",
       "      <td>14</td>\n",
       "      <td>130000</td>\n",
       "    </tr>\n",
       "    <tr>\n",
       "      <th>14</th>\n",
       "      <td>27</td>\n",
       "      <td>Male</td>\n",
       "      <td>Bachelor's</td>\n",
       "      <td>Customer Service Rep</td>\n",
       "      <td>2</td>\n",
       "      <td>40000</td>\n",
       "    </tr>\n",
       "    <tr>\n",
       "      <th>15</th>\n",
       "      <td>44</td>\n",
       "      <td>Male</td>\n",
       "      <td>Bachelor's</td>\n",
       "      <td>Operations Manager</td>\n",
       "      <td>16</td>\n",
       "      <td>125000</td>\n",
       "    </tr>\n",
       "    <tr>\n",
       "      <th>16</th>\n",
       "      <td>33</td>\n",
       "      <td>Female</td>\n",
       "      <td>Master's</td>\n",
       "      <td>Marketing Manager</td>\n",
       "      <td>7</td>\n",
       "      <td>90000</td>\n",
       "    </tr>\n",
       "    <tr>\n",
       "      <th>17</th>\n",
       "      <td>39</td>\n",
       "      <td>Male</td>\n",
       "      <td>PhD</td>\n",
       "      <td>Senior Engineer</td>\n",
       "      <td>12</td>\n",
       "      <td>115000</td>\n",
       "    </tr>\n",
       "    <tr>\n",
       "      <th>18</th>\n",
       "      <td>25</td>\n",
       "      <td>Female</td>\n",
       "      <td>Bachelor's</td>\n",
       "      <td>Data Entry Clerk</td>\n",
       "      <td>0</td>\n",
       "      <td>35000</td>\n",
       "    </tr>\n",
       "    <tr>\n",
       "      <th>19</th>\n",
       "      <td>51</td>\n",
       "      <td>Male</td>\n",
       "      <td>Bachelor's</td>\n",
       "      <td>Sales Director</td>\n",
       "      <td>22</td>\n",
       "      <td>180000</td>\n",
       "    </tr>\n",
       "  </tbody>\n",
       "</table>\n",
       "</div>"
      ]
     },
     "metadata": {
      "application/vnd.databricks.v1+output": {
       "addedWidgets": {},
       "arguments": {},
       "data": "<div>\n<style scoped>\n    .dataframe tbody tr th:only-of-type {\n        vertical-align: middle;\n    }\n\n    .dataframe tbody tr th {\n        vertical-align: top;\n    }\n\n    .dataframe thead th {\n        text-align: right;\n    }\n</style>\n<table border=\"1\" class=\"dataframe\">\n  <thead>\n    <tr style=\"text-align: right;\">\n      <th></th>\n      <th>Age</th>\n      <th>Gender</th>\n      <th>Education Level</th>\n      <th>Job Title</th>\n      <th>Years of Experience</th>\n      <th>Salary</th>\n    </tr>\n  </thead>\n  <tbody>\n    <tr>\n      <th>0</th>\n      <td>32</td>\n      <td>Male</td>\n      <td>Bachelor's</td>\n      <td>Software Engineer</td>\n      <td>5</td>\n      <td>90000</td>\n    </tr>\n    <tr>\n      <th>1</th>\n      <td>28</td>\n      <td>Female</td>\n      <td>Master's</td>\n      <td>Data Analyst</td>\n      <td>3</td>\n      <td>65000</td>\n    </tr>\n    <tr>\n      <th>2</th>\n      <td>45</td>\n      <td>Male</td>\n      <td>PhD</td>\n      <td>Senior Manager</td>\n      <td>15</td>\n      <td>150000</td>\n    </tr>\n    <tr>\n      <th>3</th>\n      <td>36</td>\n      <td>Female</td>\n      <td>Bachelor's</td>\n      <td>Sales Associate</td>\n      <td>7</td>\n      <td>60000</td>\n    </tr>\n    <tr>\n      <th>4</th>\n      <td>52</td>\n      <td>Male</td>\n      <td>Master's</td>\n      <td>Director</td>\n      <td>20</td>\n      <td>200000</td>\n    </tr>\n    <tr>\n      <th>5</th>\n      <td>29</td>\n      <td>Male</td>\n      <td>Bachelor's</td>\n      <td>Marketing Analyst</td>\n      <td>2</td>\n      <td>55000</td>\n    </tr>\n    <tr>\n      <th>6</th>\n      <td>42</td>\n      <td>Female</td>\n      <td>Master's</td>\n      <td>Product Manager</td>\n      <td>12</td>\n      <td>120000</td>\n    </tr>\n    <tr>\n      <th>7</th>\n      <td>31</td>\n      <td>Male</td>\n      <td>Bachelor's</td>\n      <td>Sales Manager</td>\n      <td>4</td>\n      <td>80000</td>\n    </tr>\n    <tr>\n      <th>8</th>\n      <td>26</td>\n      <td>Female</td>\n      <td>Bachelor's</td>\n      <td>Marketing Coordinator</td>\n      <td>1</td>\n      <td>45000</td>\n    </tr>\n    <tr>\n      <th>9</th>\n      <td>38</td>\n      <td>Male</td>\n      <td>PhD</td>\n      <td>Senior Scientist</td>\n      <td>10</td>\n      <td>110000</td>\n    </tr>\n    <tr>\n      <th>10</th>\n      <td>29</td>\n      <td>Male</td>\n      <td>Master's</td>\n      <td>Software Developer</td>\n      <td>3</td>\n      <td>75000</td>\n    </tr>\n    <tr>\n      <th>11</th>\n      <td>48</td>\n      <td>Female</td>\n      <td>Bachelor's</td>\n      <td>HR Manager</td>\n      <td>18</td>\n      <td>140000</td>\n    </tr>\n    <tr>\n      <th>12</th>\n      <td>35</td>\n      <td>Male</td>\n      <td>Bachelor's</td>\n      <td>Financial Analyst</td>\n      <td>6</td>\n      <td>65000</td>\n    </tr>\n    <tr>\n      <th>13</th>\n      <td>40</td>\n      <td>Female</td>\n      <td>Master's</td>\n      <td>Project Manager</td>\n      <td>14</td>\n      <td>130000</td>\n    </tr>\n    <tr>\n      <th>14</th>\n      <td>27</td>\n      <td>Male</td>\n      <td>Bachelor's</td>\n      <td>Customer Service Rep</td>\n      <td>2</td>\n      <td>40000</td>\n    </tr>\n    <tr>\n      <th>15</th>\n      <td>44</td>\n      <td>Male</td>\n      <td>Bachelor's</td>\n      <td>Operations Manager</td>\n      <td>16</td>\n      <td>125000</td>\n    </tr>\n    <tr>\n      <th>16</th>\n      <td>33</td>\n      <td>Female</td>\n      <td>Master's</td>\n      <td>Marketing Manager</td>\n      <td>7</td>\n      <td>90000</td>\n    </tr>\n    <tr>\n      <th>17</th>\n      <td>39</td>\n      <td>Male</td>\n      <td>PhD</td>\n      <td>Senior Engineer</td>\n      <td>12</td>\n      <td>115000</td>\n    </tr>\n    <tr>\n      <th>18</th>\n      <td>25</td>\n      <td>Female</td>\n      <td>Bachelor's</td>\n      <td>Data Entry Clerk</td>\n      <td>0</td>\n      <td>35000</td>\n    </tr>\n    <tr>\n      <th>19</th>\n      <td>51</td>\n      <td>Male</td>\n      <td>Bachelor's</td>\n      <td>Sales Director</td>\n      <td>22</td>\n      <td>180000</td>\n    </tr>\n  </tbody>\n</table>\n</div>",
       "datasetInfos": [],
       "metadata": {},
       "removedWidgets": [],
       "textData": null,
       "type": "htmlSandbox"
      }
     },
     "output_type": "display_data"
    }
   ],
   "source": [
    "df_initial.head(20)"
   ]
  },
  {
   "cell_type": "code",
   "execution_count": 0,
   "metadata": {
    "application/vnd.databricks.v1+cell": {
     "cellMetadata": {
      "byteLimit": 2048000,
      "rowLimit": 10000
     },
     "inputWidgets": {},
     "nuid": "304a3d45-7a54-4752-a7a4-63a3921229c3",
     "showTitle": false,
     "title": ""
    }
   },
   "outputs": [
    {
     "output_type": "stream",
     "name": "stdout",
     "output_type": "stream",
     "text": [
      "Out[26]: Index(['Age', 'Gender', 'Education Level', 'Job Title', 'Years of Experience',\n       'Salary'],\n      dtype='object')"
     ]
    }
   ],
   "source": [
    "df_initial.columns"
   ]
  },
  {
   "cell_type": "code",
   "execution_count": 0,
   "metadata": {
    "application/vnd.databricks.v1+cell": {
     "cellMetadata": {
      "byteLimit": 2048000,
      "rowLimit": 10000
     },
     "inputWidgets": {},
     "nuid": "afdcd609-04d5-4632-947d-29677765604e",
     "showTitle": false,
     "title": ""
    }
   },
   "outputs": [
    {
     "output_type": "stream",
     "name": "stdout",
     "output_type": "stream",
     "text": [
      "<class 'pandas.core.frame.DataFrame'>\nRangeIndex: 6704 entries, 0 to 6703\nData columns (total 6 columns):\n #   Column               Non-Null Count  Dtype \n---  ------               --------------  ----- \n 0   Age                  6702 non-null   object\n 1   Gender               6702 non-null   object\n 2   Education Level      6701 non-null   object\n 3   Job Title            6702 non-null   object\n 4   Years of Experience  6701 non-null   object\n 5   Salary               6699 non-null   object\ndtypes: object(6)\nmemory usage: 314.4+ KB\n"
     ]
    }
   ],
   "source": [
    "df_initial.info()"
   ]
  },
  {
   "cell_type": "code",
   "execution_count": 0,
   "metadata": {
    "application/vnd.databricks.v1+cell": {
     "cellMetadata": {
      "byteLimit": 2048000,
      "rowLimit": 10000
     },
     "inputWidgets": {},
     "nuid": "4c62c167-0277-4ff0-b2d7-3bfffd1d3d95",
     "showTitle": false,
     "title": ""
    }
   },
   "outputs": [
    {
     "output_type": "stream",
     "name": "stdout",
     "output_type": "stream",
     "text": [
      "<class 'pandas.core.frame.DataFrame'>\nRangeIndex: 6704 entries, 0 to 6703\nData columns (total 6 columns):\n #   Column               Non-Null Count  Dtype \n---  ------               --------------  ----- \n 0   Age                  6702 non-null   object\n 1   Gender               6702 non-null   object\n 2   Education Level      6701 non-null   object\n 3   Job Title            6702 non-null   object\n 4   Years of Experience  6701 non-null   object\n 5   Salary               6699 non-null   object\ndtypes: object(6)\nmemory usage: 314.4+ KB\n"
     ]
    }
   ],
   "source": [
    "df_initial.info()"
   ]
  },
  {
   "cell_type": "code",
   "execution_count": 0,
   "metadata": {
    "application/vnd.databricks.v1+cell": {
     "cellMetadata": {
      "byteLimit": 2048000,
      "rowLimit": 10000
     },
     "inputWidgets": {},
     "nuid": "6f29c52e-9efd-40e4-8d05-c7e2b52d4b92",
     "showTitle": false,
     "title": ""
    }
   },
   "outputs": [],
   "source": [
    "df_initial['Age'] = pd.to_numeric(df_initial['Age'], errors='coerce')\n",
    "df_initial['Gender'] = df_initial['Gender'].astype('category')\n",
    "df_initial['Education Level'] = df_initial['Education Level'].astype('category')\n",
    "df_initial['Years of Experience'] = pd.to_numeric(df_initial['Years of Experience'], errors='coerce')\n",
    "df_initial['Salary'] = pd.to_numeric(df_initial['Salary'], errors='coerce')"
   ]
  },
  {
   "cell_type": "code",
   "execution_count": 0,
   "metadata": {
    "application/vnd.databricks.v1+cell": {
     "cellMetadata": {
      "byteLimit": 2048000,
      "rowLimit": 10000
     },
     "inputWidgets": {},
     "nuid": "7beea6ea-d844-41c3-8fde-b7056e16f028",
     "showTitle": false,
     "title": ""
    }
   },
   "outputs": [
    {
     "output_type": "stream",
     "name": "stdout",
     "output_type": "stream",
     "text": [
      "<class 'pandas.core.frame.DataFrame'>\nRangeIndex: 6704 entries, 0 to 6703\nData columns (total 6 columns):\n #   Column               Non-Null Count  Dtype   \n---  ------               --------------  -----   \n 0   Age                  6702 non-null   float64 \n 1   Gender               6702 non-null   category\n 2   Education Level      6701 non-null   category\n 3   Job Title            6702 non-null   object  \n 4   Years of Experience  6701 non-null   float64 \n 5   Salary               6699 non-null   float64 \ndtypes: category(2), float64(3), object(1)\nmemory usage: 223.2+ KB\n"
     ]
    }
   ],
   "source": [
    "df_initial.info()"
   ]
  },
  {
   "cell_type": "code",
   "execution_count": 0,
   "metadata": {
    "application/vnd.databricks.v1+cell": {
     "cellMetadata": {
      "byteLimit": 2048000,
      "rowLimit": 10000
     },
     "inputWidgets": {},
     "nuid": "3b9e94a7-bd79-4348-af62-60a2c0816ca5",
     "showTitle": false,
     "title": ""
    }
   },
   "outputs": [
    {
     "output_type": "stream",
     "name": "stdout",
     "output_type": "stream",
     "text": [
      "Out[31]: Age                    2\nGender                 2\nEducation Level        3\nJob Title              2\nYears of Experience    3\nSalary                 5\ndtype: int64"
     ]
    }
   ],
   "source": [
    "df_initial.isnull().sum()"
   ]
  },
  {
   "cell_type": "code",
   "execution_count": 0,
   "metadata": {
    "application/vnd.databricks.v1+cell": {
     "cellMetadata": {
      "byteLimit": 2048000,
      "rowLimit": 10000
     },
     "inputWidgets": {},
     "nuid": "815a7d06-6e75-41e2-940a-89cf809cc4fc",
     "showTitle": false,
     "title": ""
    }
   },
   "outputs": [],
   "source": [
    "df_non_null = df_initial.dropna()"
   ]
  },
  {
   "cell_type": "code",
   "execution_count": 0,
   "metadata": {
    "application/vnd.databricks.v1+cell": {
     "cellMetadata": {
      "byteLimit": 2048000,
      "rowLimit": 10000
     },
     "inputWidgets": {},
     "nuid": "843a3ffb-480f-4e8b-a3db-b18e636ae780",
     "showTitle": false,
     "title": ""
    }
   },
   "outputs": [
    {
     "output_type": "display_data",
     "data": {
      "text/html": [
       "<div>\n",
       "<style scoped>\n",
       "    .dataframe tbody tr th:only-of-type {\n",
       "        vertical-align: middle;\n",
       "    }\n",
       "\n",
       "    .dataframe tbody tr th {\n",
       "        vertical-align: top;\n",
       "    }\n",
       "\n",
       "    .dataframe thead th {\n",
       "        text-align: right;\n",
       "    }\n",
       "</style>\n",
       "<table border=\"1\" class=\"dataframe\">\n",
       "  <thead>\n",
       "    <tr style=\"text-align: right;\">\n",
       "      <th></th>\n",
       "      <th>Age</th>\n",
       "      <th>Gender</th>\n",
       "      <th>Education Level</th>\n",
       "      <th>Job Title</th>\n",
       "      <th>Years of Experience</th>\n",
       "      <th>Salary</th>\n",
       "    </tr>\n",
       "  </thead>\n",
       "  <tbody>\n",
       "    <tr>\n",
       "      <th>0</th>\n",
       "      <td>32.0</td>\n",
       "      <td>Male</td>\n",
       "      <td>Bachelor's</td>\n",
       "      <td>Software Engineer</td>\n",
       "      <td>5.0</td>\n",
       "      <td>90000.0</td>\n",
       "    </tr>\n",
       "    <tr>\n",
       "      <th>1</th>\n",
       "      <td>28.0</td>\n",
       "      <td>Female</td>\n",
       "      <td>Master's</td>\n",
       "      <td>Data Analyst</td>\n",
       "      <td>3.0</td>\n",
       "      <td>65000.0</td>\n",
       "    </tr>\n",
       "    <tr>\n",
       "      <th>2</th>\n",
       "      <td>45.0</td>\n",
       "      <td>Male</td>\n",
       "      <td>PhD</td>\n",
       "      <td>Senior Manager</td>\n",
       "      <td>15.0</td>\n",
       "      <td>150000.0</td>\n",
       "    </tr>\n",
       "    <tr>\n",
       "      <th>3</th>\n",
       "      <td>36.0</td>\n",
       "      <td>Female</td>\n",
       "      <td>Bachelor's</td>\n",
       "      <td>Sales Associate</td>\n",
       "      <td>7.0</td>\n",
       "      <td>60000.0</td>\n",
       "    </tr>\n",
       "    <tr>\n",
       "      <th>4</th>\n",
       "      <td>52.0</td>\n",
       "      <td>Male</td>\n",
       "      <td>Master's</td>\n",
       "      <td>Director</td>\n",
       "      <td>20.0</td>\n",
       "      <td>200000.0</td>\n",
       "    </tr>\n",
       "    <tr>\n",
       "      <th>5</th>\n",
       "      <td>29.0</td>\n",
       "      <td>Male</td>\n",
       "      <td>Bachelor's</td>\n",
       "      <td>Marketing Analyst</td>\n",
       "      <td>2.0</td>\n",
       "      <td>55000.0</td>\n",
       "    </tr>\n",
       "    <tr>\n",
       "      <th>6</th>\n",
       "      <td>42.0</td>\n",
       "      <td>Female</td>\n",
       "      <td>Master's</td>\n",
       "      <td>Product Manager</td>\n",
       "      <td>12.0</td>\n",
       "      <td>120000.0</td>\n",
       "    </tr>\n",
       "    <tr>\n",
       "      <th>7</th>\n",
       "      <td>31.0</td>\n",
       "      <td>Male</td>\n",
       "      <td>Bachelor's</td>\n",
       "      <td>Sales Manager</td>\n",
       "      <td>4.0</td>\n",
       "      <td>80000.0</td>\n",
       "    </tr>\n",
       "    <tr>\n",
       "      <th>8</th>\n",
       "      <td>26.0</td>\n",
       "      <td>Female</td>\n",
       "      <td>Bachelor's</td>\n",
       "      <td>Marketing Coordinator</td>\n",
       "      <td>1.0</td>\n",
       "      <td>45000.0</td>\n",
       "    </tr>\n",
       "    <tr>\n",
       "      <th>9</th>\n",
       "      <td>38.0</td>\n",
       "      <td>Male</td>\n",
       "      <td>PhD</td>\n",
       "      <td>Senior Scientist</td>\n",
       "      <td>10.0</td>\n",
       "      <td>110000.0</td>\n",
       "    </tr>\n",
       "    <tr>\n",
       "      <th>10</th>\n",
       "      <td>29.0</td>\n",
       "      <td>Male</td>\n",
       "      <td>Master's</td>\n",
       "      <td>Software Developer</td>\n",
       "      <td>3.0</td>\n",
       "      <td>75000.0</td>\n",
       "    </tr>\n",
       "    <tr>\n",
       "      <th>11</th>\n",
       "      <td>48.0</td>\n",
       "      <td>Female</td>\n",
       "      <td>Bachelor's</td>\n",
       "      <td>HR Manager</td>\n",
       "      <td>18.0</td>\n",
       "      <td>140000.0</td>\n",
       "    </tr>\n",
       "    <tr>\n",
       "      <th>12</th>\n",
       "      <td>35.0</td>\n",
       "      <td>Male</td>\n",
       "      <td>Bachelor's</td>\n",
       "      <td>Financial Analyst</td>\n",
       "      <td>6.0</td>\n",
       "      <td>65000.0</td>\n",
       "    </tr>\n",
       "    <tr>\n",
       "      <th>13</th>\n",
       "      <td>40.0</td>\n",
       "      <td>Female</td>\n",
       "      <td>Master's</td>\n",
       "      <td>Project Manager</td>\n",
       "      <td>14.0</td>\n",
       "      <td>130000.0</td>\n",
       "    </tr>\n",
       "    <tr>\n",
       "      <th>14</th>\n",
       "      <td>27.0</td>\n",
       "      <td>Male</td>\n",
       "      <td>Bachelor's</td>\n",
       "      <td>Customer Service Rep</td>\n",
       "      <td>2.0</td>\n",
       "      <td>40000.0</td>\n",
       "    </tr>\n",
       "    <tr>\n",
       "      <th>15</th>\n",
       "      <td>44.0</td>\n",
       "      <td>Male</td>\n",
       "      <td>Bachelor's</td>\n",
       "      <td>Operations Manager</td>\n",
       "      <td>16.0</td>\n",
       "      <td>125000.0</td>\n",
       "    </tr>\n",
       "    <tr>\n",
       "      <th>16</th>\n",
       "      <td>33.0</td>\n",
       "      <td>Female</td>\n",
       "      <td>Master's</td>\n",
       "      <td>Marketing Manager</td>\n",
       "      <td>7.0</td>\n",
       "      <td>90000.0</td>\n",
       "    </tr>\n",
       "    <tr>\n",
       "      <th>17</th>\n",
       "      <td>39.0</td>\n",
       "      <td>Male</td>\n",
       "      <td>PhD</td>\n",
       "      <td>Senior Engineer</td>\n",
       "      <td>12.0</td>\n",
       "      <td>115000.0</td>\n",
       "    </tr>\n",
       "    <tr>\n",
       "      <th>18</th>\n",
       "      <td>25.0</td>\n",
       "      <td>Female</td>\n",
       "      <td>Bachelor's</td>\n",
       "      <td>Data Entry Clerk</td>\n",
       "      <td>0.0</td>\n",
       "      <td>35000.0</td>\n",
       "    </tr>\n",
       "    <tr>\n",
       "      <th>19</th>\n",
       "      <td>51.0</td>\n",
       "      <td>Male</td>\n",
       "      <td>Bachelor's</td>\n",
       "      <td>Sales Director</td>\n",
       "      <td>22.0</td>\n",
       "      <td>180000.0</td>\n",
       "    </tr>\n",
       "  </tbody>\n",
       "</table>\n",
       "</div>"
      ]
     },
     "metadata": {
      "application/vnd.databricks.v1+output": {
       "addedWidgets": {},
       "arguments": {},
       "data": "<div>\n<style scoped>\n    .dataframe tbody tr th:only-of-type {\n        vertical-align: middle;\n    }\n\n    .dataframe tbody tr th {\n        vertical-align: top;\n    }\n\n    .dataframe thead th {\n        text-align: right;\n    }\n</style>\n<table border=\"1\" class=\"dataframe\">\n  <thead>\n    <tr style=\"text-align: right;\">\n      <th></th>\n      <th>Age</th>\n      <th>Gender</th>\n      <th>Education Level</th>\n      <th>Job Title</th>\n      <th>Years of Experience</th>\n      <th>Salary</th>\n    </tr>\n  </thead>\n  <tbody>\n    <tr>\n      <th>0</th>\n      <td>32.0</td>\n      <td>Male</td>\n      <td>Bachelor's</td>\n      <td>Software Engineer</td>\n      <td>5.0</td>\n      <td>90000.0</td>\n    </tr>\n    <tr>\n      <th>1</th>\n      <td>28.0</td>\n      <td>Female</td>\n      <td>Master's</td>\n      <td>Data Analyst</td>\n      <td>3.0</td>\n      <td>65000.0</td>\n    </tr>\n    <tr>\n      <th>2</th>\n      <td>45.0</td>\n      <td>Male</td>\n      <td>PhD</td>\n      <td>Senior Manager</td>\n      <td>15.0</td>\n      <td>150000.0</td>\n    </tr>\n    <tr>\n      <th>3</th>\n      <td>36.0</td>\n      <td>Female</td>\n      <td>Bachelor's</td>\n      <td>Sales Associate</td>\n      <td>7.0</td>\n      <td>60000.0</td>\n    </tr>\n    <tr>\n      <th>4</th>\n      <td>52.0</td>\n      <td>Male</td>\n      <td>Master's</td>\n      <td>Director</td>\n      <td>20.0</td>\n      <td>200000.0</td>\n    </tr>\n    <tr>\n      <th>5</th>\n      <td>29.0</td>\n      <td>Male</td>\n      <td>Bachelor's</td>\n      <td>Marketing Analyst</td>\n      <td>2.0</td>\n      <td>55000.0</td>\n    </tr>\n    <tr>\n      <th>6</th>\n      <td>42.0</td>\n      <td>Female</td>\n      <td>Master's</td>\n      <td>Product Manager</td>\n      <td>12.0</td>\n      <td>120000.0</td>\n    </tr>\n    <tr>\n      <th>7</th>\n      <td>31.0</td>\n      <td>Male</td>\n      <td>Bachelor's</td>\n      <td>Sales Manager</td>\n      <td>4.0</td>\n      <td>80000.0</td>\n    </tr>\n    <tr>\n      <th>8</th>\n      <td>26.0</td>\n      <td>Female</td>\n      <td>Bachelor's</td>\n      <td>Marketing Coordinator</td>\n      <td>1.0</td>\n      <td>45000.0</td>\n    </tr>\n    <tr>\n      <th>9</th>\n      <td>38.0</td>\n      <td>Male</td>\n      <td>PhD</td>\n      <td>Senior Scientist</td>\n      <td>10.0</td>\n      <td>110000.0</td>\n    </tr>\n    <tr>\n      <th>10</th>\n      <td>29.0</td>\n      <td>Male</td>\n      <td>Master's</td>\n      <td>Software Developer</td>\n      <td>3.0</td>\n      <td>75000.0</td>\n    </tr>\n    <tr>\n      <th>11</th>\n      <td>48.0</td>\n      <td>Female</td>\n      <td>Bachelor's</td>\n      <td>HR Manager</td>\n      <td>18.0</td>\n      <td>140000.0</td>\n    </tr>\n    <tr>\n      <th>12</th>\n      <td>35.0</td>\n      <td>Male</td>\n      <td>Bachelor's</td>\n      <td>Financial Analyst</td>\n      <td>6.0</td>\n      <td>65000.0</td>\n    </tr>\n    <tr>\n      <th>13</th>\n      <td>40.0</td>\n      <td>Female</td>\n      <td>Master's</td>\n      <td>Project Manager</td>\n      <td>14.0</td>\n      <td>130000.0</td>\n    </tr>\n    <tr>\n      <th>14</th>\n      <td>27.0</td>\n      <td>Male</td>\n      <td>Bachelor's</td>\n      <td>Customer Service Rep</td>\n      <td>2.0</td>\n      <td>40000.0</td>\n    </tr>\n    <tr>\n      <th>15</th>\n      <td>44.0</td>\n      <td>Male</td>\n      <td>Bachelor's</td>\n      <td>Operations Manager</td>\n      <td>16.0</td>\n      <td>125000.0</td>\n    </tr>\n    <tr>\n      <th>16</th>\n      <td>33.0</td>\n      <td>Female</td>\n      <td>Master's</td>\n      <td>Marketing Manager</td>\n      <td>7.0</td>\n      <td>90000.0</td>\n    </tr>\n    <tr>\n      <th>17</th>\n      <td>39.0</td>\n      <td>Male</td>\n      <td>PhD</td>\n      <td>Senior Engineer</td>\n      <td>12.0</td>\n      <td>115000.0</td>\n    </tr>\n    <tr>\n      <th>18</th>\n      <td>25.0</td>\n      <td>Female</td>\n      <td>Bachelor's</td>\n      <td>Data Entry Clerk</td>\n      <td>0.0</td>\n      <td>35000.0</td>\n    </tr>\n    <tr>\n      <th>19</th>\n      <td>51.0</td>\n      <td>Male</td>\n      <td>Bachelor's</td>\n      <td>Sales Director</td>\n      <td>22.0</td>\n      <td>180000.0</td>\n    </tr>\n  </tbody>\n</table>\n</div>",
       "datasetInfos": [],
       "metadata": {},
       "removedWidgets": [],
       "textData": null,
       "type": "htmlSandbox"
      }
     },
     "output_type": "display_data"
    }
   ],
   "source": [
    "df_non_null.head(20)"
   ]
  },
  {
   "cell_type": "code",
   "execution_count": 0,
   "metadata": {
    "application/vnd.databricks.v1+cell": {
     "cellMetadata": {
      "byteLimit": 2048000,
      "rowLimit": 10000
     },
     "inputWidgets": {},
     "nuid": "d973d900-e5cc-462b-a52e-5e8eb778e3e1",
     "showTitle": false,
     "title": ""
    }
   },
   "outputs": [
    {
     "output_type": "stream",
     "name": "stdout",
     "output_type": "stream",
     "text": [
      "Out[34]: Age                    0\nGender                 0\nEducation Level        0\nJob Title              0\nYears of Experience    0\nSalary                 0\ndtype: int64"
     ]
    }
   ],
   "source": [
    "df_non_null.isnull().sum()"
   ]
  },
  {
   "cell_type": "code",
   "execution_count": 0,
   "metadata": {
    "application/vnd.databricks.v1+cell": {
     "cellMetadata": {
      "byteLimit": 2048000,
      "rowLimit": 10000
     },
     "inputWidgets": {},
     "nuid": "b08f52c4-a1ed-4fce-9594-26f7cf7a5905",
     "showTitle": false,
     "title": ""
    }
   },
   "outputs": [
    {
     "output_type": "display_data",
     "data": {
      "text/html": [
       "<div>\n",
       "<style scoped>\n",
       "    .dataframe tbody tr th:only-of-type {\n",
       "        vertical-align: middle;\n",
       "    }\n",
       "\n",
       "    .dataframe tbody tr th {\n",
       "        vertical-align: top;\n",
       "    }\n",
       "\n",
       "    .dataframe thead th {\n",
       "        text-align: right;\n",
       "    }\n",
       "</style>\n",
       "<table border=\"1\" class=\"dataframe\">\n",
       "  <thead>\n",
       "    <tr style=\"text-align: right;\">\n",
       "      <th></th>\n",
       "      <th>Age</th>\n",
       "      <th>Years of Experience</th>\n",
       "      <th>Salary</th>\n",
       "    </tr>\n",
       "  </thead>\n",
       "  <tbody>\n",
       "    <tr>\n",
       "      <th>count</th>\n",
       "      <td>6698.000000</td>\n",
       "      <td>6698.000000</td>\n",
       "      <td>6698.000000</td>\n",
       "    </tr>\n",
       "    <tr>\n",
       "      <th>mean</th>\n",
       "      <td>33.623022</td>\n",
       "      <td>8.095178</td>\n",
       "      <td>115329.253061</td>\n",
       "    </tr>\n",
       "    <tr>\n",
       "      <th>std</th>\n",
       "      <td>7.615784</td>\n",
       "      <td>6.060291</td>\n",
       "      <td>52789.792507</td>\n",
       "    </tr>\n",
       "    <tr>\n",
       "      <th>min</th>\n",
       "      <td>21.000000</td>\n",
       "      <td>0.000000</td>\n",
       "      <td>350.000000</td>\n",
       "    </tr>\n",
       "    <tr>\n",
       "      <th>25%</th>\n",
       "      <td>28.000000</td>\n",
       "      <td>3.000000</td>\n",
       "      <td>70000.000000</td>\n",
       "    </tr>\n",
       "    <tr>\n",
       "      <th>50%</th>\n",
       "      <td>32.000000</td>\n",
       "      <td>7.000000</td>\n",
       "      <td>115000.000000</td>\n",
       "    </tr>\n",
       "    <tr>\n",
       "      <th>75%</th>\n",
       "      <td>38.000000</td>\n",
       "      <td>12.000000</td>\n",
       "      <td>160000.000000</td>\n",
       "    </tr>\n",
       "    <tr>\n",
       "      <th>max</th>\n",
       "      <td>62.000000</td>\n",
       "      <td>34.000000</td>\n",
       "      <td>250000.000000</td>\n",
       "    </tr>\n",
       "  </tbody>\n",
       "</table>\n",
       "</div>"
      ]
     },
     "metadata": {
      "application/vnd.databricks.v1+output": {
       "addedWidgets": {},
       "arguments": {},
       "data": "<div>\n<style scoped>\n    .dataframe tbody tr th:only-of-type {\n        vertical-align: middle;\n    }\n\n    .dataframe tbody tr th {\n        vertical-align: top;\n    }\n\n    .dataframe thead th {\n        text-align: right;\n    }\n</style>\n<table border=\"1\" class=\"dataframe\">\n  <thead>\n    <tr style=\"text-align: right;\">\n      <th></th>\n      <th>Age</th>\n      <th>Years of Experience</th>\n      <th>Salary</th>\n    </tr>\n  </thead>\n  <tbody>\n    <tr>\n      <th>count</th>\n      <td>6698.000000</td>\n      <td>6698.000000</td>\n      <td>6698.000000</td>\n    </tr>\n    <tr>\n      <th>mean</th>\n      <td>33.623022</td>\n      <td>8.095178</td>\n      <td>115329.253061</td>\n    </tr>\n    <tr>\n      <th>std</th>\n      <td>7.615784</td>\n      <td>6.060291</td>\n      <td>52789.792507</td>\n    </tr>\n    <tr>\n      <th>min</th>\n      <td>21.000000</td>\n      <td>0.000000</td>\n      <td>350.000000</td>\n    </tr>\n    <tr>\n      <th>25%</th>\n      <td>28.000000</td>\n      <td>3.000000</td>\n      <td>70000.000000</td>\n    </tr>\n    <tr>\n      <th>50%</th>\n      <td>32.000000</td>\n      <td>7.000000</td>\n      <td>115000.000000</td>\n    </tr>\n    <tr>\n      <th>75%</th>\n      <td>38.000000</td>\n      <td>12.000000</td>\n      <td>160000.000000</td>\n    </tr>\n    <tr>\n      <th>max</th>\n      <td>62.000000</td>\n      <td>34.000000</td>\n      <td>250000.000000</td>\n    </tr>\n  </tbody>\n</table>\n</div>",
       "datasetInfos": [],
       "metadata": {},
       "removedWidgets": [],
       "textData": null,
       "type": "htmlSandbox"
      }
     },
     "output_type": "display_data"
    }
   ],
   "source": [
    "df_non_null.describe()"
   ]
  },
  {
   "cell_type": "code",
   "execution_count": 0,
   "metadata": {
    "application/vnd.databricks.v1+cell": {
     "cellMetadata": {
      "byteLimit": 2048000,
      "rowLimit": 10000
     },
     "inputWidgets": {},
     "nuid": "3eb16e7a-4874-4e57-b64e-0880d1f08708",
     "showTitle": false,
     "title": ""
    }
   },
   "outputs": [
    {
     "output_type": "display_data",
     "data": {
      "text/html": [
       "<div>\n",
       "<style scoped>\n",
       "    .dataframe tbody tr th:only-of-type {\n",
       "        vertical-align: middle;\n",
       "    }\n",
       "\n",
       "    .dataframe tbody tr th {\n",
       "        vertical-align: top;\n",
       "    }\n",
       "\n",
       "    .dataframe thead th {\n",
       "        text-align: right;\n",
       "    }\n",
       "</style>\n",
       "<table border=\"1\" class=\"dataframe\">\n",
       "  <thead>\n",
       "    <tr style=\"text-align: right;\">\n",
       "      <th></th>\n",
       "      <th>Age</th>\n",
       "      <th>Years of Experience</th>\n",
       "      <th>Salary</th>\n",
       "    </tr>\n",
       "  </thead>\n",
       "  <tbody>\n",
       "    <tr>\n",
       "      <th>Age</th>\n",
       "      <td>1.000000</td>\n",
       "      <td>0.937725</td>\n",
       "      <td>0.728061</td>\n",
       "    </tr>\n",
       "    <tr>\n",
       "      <th>Years of Experience</th>\n",
       "      <td>0.937725</td>\n",
       "      <td>1.000000</td>\n",
       "      <td>0.808968</td>\n",
       "    </tr>\n",
       "    <tr>\n",
       "      <th>Salary</th>\n",
       "      <td>0.728061</td>\n",
       "      <td>0.808968</td>\n",
       "      <td>1.000000</td>\n",
       "    </tr>\n",
       "  </tbody>\n",
       "</table>\n",
       "</div>"
      ]
     },
     "metadata": {
      "application/vnd.databricks.v1+output": {
       "addedWidgets": {},
       "arguments": {},
       "data": "<div>\n<style scoped>\n    .dataframe tbody tr th:only-of-type {\n        vertical-align: middle;\n    }\n\n    .dataframe tbody tr th {\n        vertical-align: top;\n    }\n\n    .dataframe thead th {\n        text-align: right;\n    }\n</style>\n<table border=\"1\" class=\"dataframe\">\n  <thead>\n    <tr style=\"text-align: right;\">\n      <th></th>\n      <th>Age</th>\n      <th>Years of Experience</th>\n      <th>Salary</th>\n    </tr>\n  </thead>\n  <tbody>\n    <tr>\n      <th>Age</th>\n      <td>1.000000</td>\n      <td>0.937725</td>\n      <td>0.728061</td>\n    </tr>\n    <tr>\n      <th>Years of Experience</th>\n      <td>0.937725</td>\n      <td>1.000000</td>\n      <td>0.808968</td>\n    </tr>\n    <tr>\n      <th>Salary</th>\n      <td>0.728061</td>\n      <td>0.808968</td>\n      <td>1.000000</td>\n    </tr>\n  </tbody>\n</table>\n</div>",
       "datasetInfos": [],
       "metadata": {},
       "removedWidgets": [],
       "textData": null,
       "type": "htmlSandbox"
      }
     },
     "output_type": "display_data"
    }
   ],
   "source": [
    "df_non_null.corr()"
   ]
  },
  {
   "cell_type": "code",
   "execution_count": 0,
   "metadata": {
    "application/vnd.databricks.v1+cell": {
     "cellMetadata": {
      "byteLimit": 2048000,
      "rowLimit": 10000
     },
     "inputWidgets": {},
     "nuid": "cd4637a0-02d3-42c6-94ea-6701974d1758",
     "showTitle": false,
     "title": ""
    }
   },
   "outputs": [
    {
     "output_type": "stream",
     "name": "stdout",
     "output_type": "stream",
     "text": [
      "Out[37]: Male      3671\nFemale    3013\nOther       14\nName: Gender, dtype: int64"
     ]
    }
   ],
   "source": [
    "df_non_null['Gender'].value_counts()"
   ]
  },
  {
   "cell_type": "code",
   "execution_count": 0,
   "metadata": {
    "application/vnd.databricks.v1+cell": {
     "cellMetadata": {
      "byteLimit": 2048000,
      "rowLimit": 10000
     },
     "inputWidgets": {},
     "nuid": "d3cb2faa-ab7b-42e3-866b-d66b864ca86f",
     "showTitle": false,
     "title": ""
    }
   },
   "outputs": [
    {
     "output_type": "stream",
     "name": "stdout",
     "output_type": "stream",
     "text": [
      "Out[38]: Bachelor's Degree    2265\nMaster's Degree      1572\nPhD                  1368\nBachelor's            756\nHigh School           448\nMaster's              288\nphD                     1\nName: Education Level, dtype: int64"
     ]
    }
   ],
   "source": [
    "df_non_null['Education Level'].value_counts()"
   ]
  },
  {
   "cell_type": "code",
   "execution_count": 0,
   "metadata": {
    "application/vnd.databricks.v1+cell": {
     "cellMetadata": {
      "byteLimit": 2048000,
      "rowLimit": 10000
     },
     "inputWidgets": {},
     "nuid": "b8573694-6af1-4961-af50-4df98e8567c8",
     "showTitle": false,
     "title": ""
    }
   },
   "outputs": [
    {
     "output_type": "stream",
     "name": "stdout",
     "output_type": "stream",
     "text": [
      "Out[39]: Software Engineer             518\nData Scientist                453\nSoftware Engineer Manager     376\nData Analyst                  363\nSenior Project Engineer       318\n                             ... \nAccount Manager                 1\nHelp Desk Analyst               1\nSenior Training Specialist      1\nJunior Web Designer             1\nSoftware Project Manager        1\nName: Job Title, Length: 191, dtype: int64"
     ]
    }
   ],
   "source": [
    "df_non_null['Job Title'].value_counts()"
   ]
  },
  {
   "cell_type": "code",
   "execution_count": 0,
   "metadata": {
    "application/vnd.databricks.v1+cell": {
     "cellMetadata": {
      "byteLimit": 2048000,
      "rowLimit": 10000
     },
     "inputWidgets": {},
     "nuid": "e5f18d32-d711-4321-b512-da639412c321",
     "showTitle": false,
     "title": ""
    },
    "jupyter": {
     "outputs_hidden": true
    }
   },
   "outputs": [
    {
     "output_type": "stream",
     "name": "stdout",
     "output_type": "stream",
     "text": [
      "Out[40]: [27.0    516\n 30.0    449\n 29.0    444\n 28.0    429\n 33.0    398\n 26.0    393\n 31.0    364\n 32.0    351\n 34.0    309\n 25.0    284\n 36.0    281\n 24.0    240\n 35.0    200\n 42.0    176\n 43.0    158\n 39.0    158\n 37.0    156\n 38.0    149\n 45.0    144\n 41.0    129\n 44.0    126\n 23.0    104\n 46.0    102\n 48.0     98\n 40.0     92\n 49.0     91\n 50.0     88\n 54.0     68\n 47.0     47\n 51.0     30\n 52.0     29\n 21.0     18\n 55.0     16\n 22.0     15\n 56.0     11\n 57.0      9\n 53.0      7\n 58.0      7\n 62.0      5\n 60.0      5\n 61.0      2\n Name: Age, dtype: int64,\n Male      3671\n Female    3013\n Other       14\n Name: Gender, dtype: int64,\n Bachelor's Degree    2265\n Master's Degree      1572\n PhD                  1368\n Bachelor's            756\n High School           448\n Master's              288\n phD                     1\n Name: Education Level, dtype: int64,\n Software Engineer             518\n Data Scientist                453\n Software Engineer Manager     376\n Data Analyst                  363\n Senior Project Engineer       318\n                              ... \n Account Manager                 1\n Help Desk Analyst               1\n Senior Training Specialist      1\n Junior Web Designer             1\n Software Project Manager        1\n Name: Job Title, Length: 191, dtype: int64,\n 2.0     610\n 3.0     602\n 1.0     540\n 4.0     522\n 6.0     438\n 8.0     425\n 5.0     399\n 9.0     380\n 7.0     352\n 11.0    320\n 12.0    294\n 14.0    253\n 16.0    242\n 13.0    209\n 10.0    192\n 15.0    129\n 18.0    126\n 19.0    121\n 0.0     120\n 17.0    106\n 20.0     61\n 22.0     47\n 21.0     42\n 23.0     37\n 25.0     24\n 24.0     19\n 28.0     16\n 1.5      12\n 29.0     12\n 27.0     11\n 32.0     10\n 26.0      7\n 30.0      6\n 33.0      6\n 31.0      5\n 34.0      2\n 0.5       1\n Name: Years of Experience, dtype: int64,\n 140000.0    287\n 120000.0    282\n 160000.0    276\n 55000.0     251\n 60000.0     231\n            ... \n 150534.0      1\n 68732.0       1\n 187951.0      1\n 137336.0      1\n 178284.0      1\n Name: Salary, Length: 444, dtype: int64]"
     ]
    }
   ],
   "source": [
    "list(map(lambda x : df_non_null[f\"{x}\"].value_counts(),df_non_null.columns))"
   ]
  },
  {
   "cell_type": "code",
   "execution_count": 0,
   "metadata": {
    "application/vnd.databricks.v1+cell": {
     "cellMetadata": {
      "byteLimit": 2048000,
      "rowLimit": 10000
     },
     "inputWidgets": {},
     "nuid": "6bd825d7-c5a1-416d-8f2f-c32b2edbf35d",
     "showTitle": false,
     "title": ""
    }
   },
   "outputs": [
    {
     "output_type": "stream",
     "name": "stdout",
     "output_type": "stream",
     "text": [
      "Out[41]: [Empty DataFrame\n Columns: [Age, Gender, Education Level, Job Title, Years of Experience, Salary]\n Index: [],\n Empty DataFrame\n Columns: [Age, Gender, Education Level, Job Title, Years of Experience, Salary]\n Index: [],\n Empty DataFrame\n Columns: [Age, Gender, Education Level, Job Title, Years of Experience, Salary]\n Index: [],\n Empty DataFrame\n Columns: [Age, Gender, Education Level, Job Title, Years of Experience, Salary]\n Index: [],\n Empty DataFrame\n Columns: [Age, Gender, Education Level, Job Title, Years of Experience, Salary]\n Index: [],\n Empty DataFrame\n Columns: [Age, Gender, Education Level, Job Title, Years of Experience, Salary]\n Index: []]"
     ]
    }
   ],
   "source": [
    "list(map(lambda x : df_non_null.loc[df_non_null[f'{x}'].isna()],df_non_null.columns))"
   ]
  },
  {
   "cell_type": "code",
   "execution_count": 0,
   "metadata": {
    "application/vnd.databricks.v1+cell": {
     "cellMetadata": {
      "byteLimit": 2048000,
      "rowLimit": 10000
     },
     "inputWidgets": {},
     "nuid": "7c3248ed-e44d-44a8-8b03-7812914ed92f",
     "showTitle": false,
     "title": ""
    },
    "jupyter": {
     "outputs_hidden": true
    }
   },
   "outputs": [
    {
     "output_type": "stream",
     "name": "stdout",
     "output_type": "stream",
     "text": [
      "Out[42]: [array([32., 28., 45., 36., 52., 29., 42., 31., 26., 38., 48., 35., 40.,\n        27., 44., 33., 39., 25., 51., 34., 47., 30., 41., 37., 24., 43.,\n        50., 46., 49., 23., 53., 61., 57., 62., 55., 56., 54., 60., 58.,\n        22., 21.]),\n ['Male', 'Female', 'Other']\n Categories (3, object): ['Female', 'Male', 'Other'],\n ['Bachelor's', 'Master's', 'PhD', 'Bachelor's Degree', 'Master's Degree', 'High School', 'phD']\n Categories (7, object): ['Bachelor's', 'Bachelor's Degree', 'High School', 'Master's',\n                          'Master's Degree', 'PhD', 'phD'],\n array(['Software Engineer', 'Data Analyst', 'Senior Manager',\n        'Sales Associate', 'Director', 'Marketing Analyst',\n        'Product Manager', 'Sales Manager', 'Marketing Coordinator',\n        'Senior Scientist', 'Software Developer', 'HR Manager',\n        'Financial Analyst', 'Project Manager', 'Customer Service Rep',\n        'Operations Manager', 'Marketing Manager', 'Senior Engineer',\n        'Data Entry Clerk', 'Sales Director', 'Business Analyst',\n        'VP of Operations', 'IT Support', 'Recruiter', 'Financial Manager',\n        'Social Media Specialist', 'Software Manager', 'Junior Developer',\n        'Senior Consultant', 'Product Designer', 'CEO', 'Accountant',\n        'Data Scientist', 'Marketing Specialist', 'Technical Writer',\n        'HR Generalist', 'Project Engineer', 'Customer Success Rep',\n        'Sales Executive', 'UX Designer', 'Operations Director',\n        'Network Engineer', 'Administrative Assistant',\n        'Strategy Consultant', 'Copywriter', 'Account Manager',\n        'Director of Marketing', 'Help Desk Analyst',\n        'Customer Service Manager', 'Business Intelligence Analyst',\n        'Event Coordinator', 'VP of Finance', 'Graphic Designer',\n        'UX Researcher', 'Social Media Manager', 'Director of Operations',\n        'Senior Data Scientist', 'Junior Accountant',\n        'Digital Marketing Manager', 'IT Manager',\n        'Customer Service Representative', 'Business Development Manager',\n        'Senior Financial Analyst', 'Web Developer', 'Research Director',\n        'Technical Support Specialist', 'Creative Director',\n        'Senior Software Engineer', 'Human Resources Director',\n        'Content Marketing Manager', 'Technical Recruiter',\n        'Sales Representative', 'Chief Technology Officer',\n        'Junior Designer', 'Financial Advisor', 'Junior Account Manager',\n        'Senior Project Manager', 'Principal Scientist',\n        'Supply Chain Manager', 'Senior Marketing Manager',\n        'Training Specialist', 'Research Scientist',\n        'Junior Software Developer', 'Public Relations Manager',\n        'Operations Analyst', 'Product Marketing Manager',\n        'Senior HR Manager', 'Junior Web Developer',\n        'Senior Project Coordinator', 'Chief Data Officer',\n        'Digital Content Producer', 'IT Support Specialist',\n        'Senior Marketing Analyst', 'Customer Success Manager',\n        'Senior Graphic Designer', 'Software Project Manager',\n        'Supply Chain Analyst', 'Senior Business Analyst',\n        'Junior Marketing Analyst', 'Office Manager', 'Principal Engineer',\n        'Junior HR Generalist', 'Senior Product Manager',\n        'Junior Operations Analyst', 'Senior HR Generalist',\n        'Sales Operations Manager', 'Senior Software Developer',\n        'Junior Web Designer', 'Senior Training Specialist',\n        'Senior Research Scientist', 'Junior Sales Representative',\n        'Junior Marketing Manager', 'Junior Data Analyst',\n        'Senior Product Marketing Manager', 'Junior Business Analyst',\n        'Senior Sales Manager', 'Junior Marketing Specialist',\n        'Junior Project Manager', 'Senior Accountant', 'Director of Sales',\n        'Junior Recruiter', 'Senior Business Development Manager',\n        'Senior Product Designer', 'Junior Customer Support Specialist',\n        'Senior IT Support Specialist', 'Junior Financial Analyst',\n        'Senior Operations Manager', 'Director of Human Resources',\n        'Junior Software Engineer', 'Senior Sales Representative',\n        'Director of Product Management', 'Junior Copywriter',\n        'Senior Marketing Coordinator', 'Senior Human Resources Manager',\n        'Junior Business Development Associate', 'Senior Account Manager',\n        'Senior Researcher', 'Junior HR Coordinator',\n        'Director of Finance', 'Junior Marketing Coordinator',\n        'Junior Data Scientist', 'Senior Operations Analyst',\n        'Senior Human Resources Coordinator', 'Senior UX Designer',\n        'Junior Product Manager', 'Senior Marketing Specialist',\n        'Senior IT Project Manager', 'Senior Quality Assurance Analyst',\n        'Director of Sales and Marketing', 'Senior Account Executive',\n        'Director of Business Development', 'Junior Social Media Manager',\n        'Senior Human Resources Specialist', 'Senior Data Analyst',\n        'Director of Human Capital', 'Junior Advertising Coordinator',\n        'Junior UX Designer', 'Senior Marketing Director',\n        'Senior IT Consultant', 'Senior Financial Advisor',\n        'Junior Business Operations Analyst',\n        'Junior Social Media Specialist',\n        'Senior Product Development Manager', 'Junior Operations Manager',\n        'Senior Software Architect', 'Junior Research Scientist',\n        'Senior Financial Manager', 'Senior HR Specialist',\n        'Senior Data Engineer', 'Junior Operations Coordinator',\n        'Director of HR', 'Senior Operations Coordinator',\n        'Junior Financial Advisor', 'Director of Engineering',\n        'Software Engineer Manager', 'Back end Developer',\n        'Senior Project Engineer', 'Full Stack Engineer',\n        'Front end Developer', 'Front End Developer',\n        'Director of Data Science', 'Human Resources Coordinator',\n        'Junior Sales Associate', 'Human Resources Manager',\n        'Juniour HR Generalist', 'Juniour HR Coordinator',\n        'Digital Marketing Specialist', 'Receptionist',\n        'Marketing Director', 'Social Media Man', 'Delivery Driver'],\n       dtype=object),\n array([ 5. ,  3. , 15. ,  7. , 20. ,  2. , 12. ,  4. ,  1. , 10. , 18. ,\n         6. , 14. , 16. ,  0. , 22. , 19. ,  9. , 13. , 11. , 25. , 21. ,\n         8. , 17. , 23. , 24. ,  0.5,  1.5, 31. , 30. , 28. , 33. , 27. ,\n        34. , 29. , 26. , 32. ]),\n array([ 90000.,  65000., 150000.,  60000., 200000.,  55000., 120000.,\n         80000.,  45000., 110000.,  75000., 140000., 130000.,  40000.,\n        125000., 115000.,  35000., 180000., 190000.,  50000., 250000.,\n        170000., 160000.,  85000.,  95000., 105000.,  70000., 100000.,\n         30000., 135000., 220000., 175000., 185000., 145000., 155000.,\n           350., 195000., 198000., 196000., 193000.,  92000., 165000.,\n        162000., 197000., 142000., 182000., 210000.,    550., 122485.,\n        169159., 187081., 166109.,  78354.,  90249., 132720., 161568.,\n        127346., 120177.,  69032., 101332., 121450., 166375., 185119.,\n        149217., 166512., 186963.,  75072., 163398., 103947., 179180.,\n        175966., 190004., 152039.,  76742., 191790., 139398.,  95845.,\n        160976., 126753., 161393., 139817., 181714., 114776., 105725.,\n         52731., 106492.,  73895., 119836.,  99747., 168287., 115920.,\n        128078.,  51265., 165919., 188651.,  55538., 193964., 104702.,\n        172955., 138032.,  82683., 155414., 154207., 107895., 148446.,\n        102859., 138662., 181699., 188232.,  51832., 188484., 138286.,\n        181132.,  73938., 119224., 101186., 142360., 151315., 181021.,\n        134641., 173851., 104127., 178859.,  98568., 104661., 134858.,\n         94502.,  62852., 139095., 106278.,  90452., 168304., 126593.,\n        152203., 183138., 130275., 191915.,  62807., 174305., 133326.,\n         75656., 155944., 137775.,  51831., 182237., 151901., 100052.,\n        158254., 167207., 112439., 194214.,  84407., 139413., 143084.,\n        192344., 106132., 184816., 150248., 170995.,  88035., 119419.,\n        173582., 174436.,  71699., 163558., 166828., 144496., 193746.,\n        122581.,  79767., 177177.,  89843., 113563., 128712., 161621.,\n        121454., 179987.,  72649.,  52612., 184006., 131960., 102465.,\n        149748., 171036., 146351., 185462., 107718.,  90944., 100425.,\n         63901., 181902., 136533., 136285., 191818., 176643.,  70022.,\n         99363., 152944., 123386., 168906., 183020.,  47898., 135853.,\n        149198., 106662., 186610.,  89995.,  85825., 143814., 174726.,\n        150534.,  68732., 187951., 137336., 191159., 102868., 154281.,\n        111535., 107906., 143885., 180958., 108607., 178284.,  75969.,\n        143705., 197354., 174324., 123781., 141735., 187120.,  61095.,\n        179045., 130355., 103282., 157872., 117314., 186321., 129686.,\n         68611., 177913.,  68472., 113065., 125091., 172925., 126916.,\n        183417.,  76898.,    579., 103579., 163780., 137878.,  92438.,\n         84181., 174821., 126520., 152168., 190543., 131547., 192292.,\n         52807., 174938., 124071.,  73640., 156486., 138859.,  52831.,\n        182392., 151078., 100679., 158966., 167924., 113334., 194778.,\n         77606., 140010., 142421., 192756., 106686., 186794., 150729.,\n        171652.,  88552., 119918., 174985., 174336.,  72389., 163978.,\n        166958., 145052., 195270., 122970.,  80247., 177862.,  91062.,\n        114290., 128999., 162454., 122354., 179756.,  73218., 184480.,\n        132442., 102828., 150301., 171468., 147326., 185982., 108267.,\n         91397., 100867.,  64182., 182506., 136986., 136662., 191510.,\n        177347.,  70397., 146075., 155795., 132638., 178684., 106218.,\n        191239.,  65840.,  52779., 185038., 136449., 110707., 151670.,\n        167015., 146508., 190596., 104378.,  70216., 101733.,  55935.,\n        180367., 135596., 136062., 191267.,  82944., 188288., 141090.,\n        152726., 124141.,  67556., 182768., 148727.,  91903., 147708.,\n        163209., 120288., 170226., 134979., 137489.,  83577., 117904.,\n        134482., 184660., 100151.,  88678., 181285., 154990., 108204.,\n        175684.,  77766., 192211., 144647., 162231., 121120.,  79652.,\n        177002.,  87584., 131860., 182013., 108799., 135378., 183530.,\n        150901.,  82697., 194638., 130356., 152560., 121432.,  63789.,\n        183690., 151310., 100358., 148437., 168691.,  32000.,  38000.,\n         89000.,  33000.,  25000.,  62000., 138000.,  47000.,  26000.,\n        174000.,  41000.,  99000., 117000., 225000.,  36000., 146000.,\n        113000., 168000., 122000.,  96000.,  49000.,  68000., 127000.,\n         71000., 240000., 152000., 119000., 131000., 101000., 137000.,\n        112000.,  91000., 179000.,  74000., 228000.,  37000., 204000.,\n         61000., 157000.,  52000.,  58000., 219000.,  77000., 104000.,\n        183000.,  43000.,  48000.,  42000.,    500.,  57000.,  72000.,\n         31000.,  28000., 215000.])]"
     ]
    }
   ],
   "source": [
    "list(map(lambda x : df_non_null[f'{x}'].unique(),df_non_null.columns))"
   ]
  },
  {
   "cell_type": "code",
   "execution_count": 0,
   "metadata": {
    "application/vnd.databricks.v1+cell": {
     "cellMetadata": {
      "byteLimit": 2048000,
      "rowLimit": 10000
     },
     "inputWidgets": {},
     "nuid": "be2c7dd4-0dba-441e-b11e-1711e96210f9",
     "showTitle": false,
     "title": ""
    }
   },
   "outputs": [
    {
     "output_type": "stream",
     "name": "stdout",
     "output_type": "stream",
     "text": [
      "Out[43]: <AxesSubplot:>"
     ]
    },
    {
     "output_type": "display_data",
     "data": {
      "image/png": "[encoded data removed]"
     },
     "metadata": {
      "application/vnd.databricks.v1+output": {
       "addedWidgets": {},
       "arguments": {},
       "data": "data:image/png;base64,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\n",
       "datasetInfos": [],
       "metadata": {},
       "removedWidgets": [],
       "type": "image"
      }
     },
     "output_type": "display_data"
    }
   ],
   "source": [
    "import seaborn as sns\n",
    "sns.heatmap(df_non_null.corr(), annot=True, cmap='coolwarm', fmt='.2f')"
   ]
  },
  {
   "cell_type": "code",
   "execution_count": 0,
   "metadata": {
    "application/vnd.databricks.v1+cell": {
     "cellMetadata": {
      "byteLimit": 2048000,
      "rowLimit": 10000
     },
     "inputWidgets": {},
     "nuid": "aef5b37a-32d5-42b4-891a-d5538a2c62b8",
     "showTitle": false,
     "title": ""
    }
   },
   "outputs": [],
   "source": [
    "y = df_non_null['Salary']\n",
    "X = df_non_null.drop('Salary',axis=1)"
   ]
  },
  {
   "cell_type": "code",
   "execution_count": 0,
   "metadata": {
    "application/vnd.databricks.v1+cell": {
     "cellMetadata": {
      "byteLimit": 2048000,
      "rowLimit": 10000
     },
     "inputWidgets": {},
     "nuid": "89549870-4beb-4464-a2c3-368256bc5dc1",
     "showTitle": false,
     "title": ""
    }
   },
   "outputs": [],
   "source": [
    "from sklearn.model_selection import train_test_split\n",
    "X_train, X_test, y_train, y_test = train_test_split(X, y, test_size=0.25, random_state=0)"
   ]
  },
  {
   "cell_type": "code",
   "execution_count": 0,
   "metadata": {
    "application/vnd.databricks.v1+cell": {
     "cellMetadata": {
      "byteLimit": 2048000,
      "rowLimit": 10000
     },
     "inputWidgets": {},
     "nuid": "3b001618-cc6d-45ac-abc2-6cd07c6d27b0",
     "showTitle": false,
     "title": ""
    }
   },
   "outputs": [
    {
     "output_type": "display_data",
     "data": {
      "text/html": [
       "<div>\n",
       "<style scoped>\n",
       "    .dataframe tbody tr th:only-of-type {\n",
       "        vertical-align: middle;\n",
       "    }\n",
       "\n",
       "    .dataframe tbody tr th {\n",
       "        vertical-align: top;\n",
       "    }\n",
       "\n",
       "    .dataframe thead th {\n",
       "        text-align: right;\n",
       "    }\n",
       "</style>\n",
       "<table border=\"1\" class=\"dataframe\">\n",
       "  <thead>\n",
       "    <tr style=\"text-align: right;\">\n",
       "      <th></th>\n",
       "      <th>Age</th>\n",
       "      <th>Gender</th>\n",
       "      <th>Education Level</th>\n",
       "      <th>Job Title</th>\n",
       "      <th>Years of Experience</th>\n",
       "    </tr>\n",
       "  </thead>\n",
       "  <tbody>\n",
       "    <tr>\n",
       "      <th>2168</th>\n",
       "      <td>49.0</td>\n",
       "      <td>Male</td>\n",
       "      <td>PhD</td>\n",
       "      <td>Senior Project Engineer</td>\n",
       "      <td>17.0</td>\n",
       "    </tr>\n",
       "    <tr>\n",
       "      <th>5298</th>\n",
       "      <td>26.0</td>\n",
       "      <td>Male</td>\n",
       "      <td>Bachelor's Degree</td>\n",
       "      <td>Junior Software Engineer</td>\n",
       "      <td>1.0</td>\n",
       "    </tr>\n",
       "    <tr>\n",
       "      <th>4659</th>\n",
       "      <td>25.0</td>\n",
       "      <td>Male</td>\n",
       "      <td>High School</td>\n",
       "      <td>Junior Sales Associate</td>\n",
       "      <td>1.0</td>\n",
       "    </tr>\n",
       "    <tr>\n",
       "      <th>3816</th>\n",
       "      <td>26.0</td>\n",
       "      <td>Female</td>\n",
       "      <td>Master's Degree</td>\n",
       "      <td>Human Resources Coordinator</td>\n",
       "      <td>3.0</td>\n",
       "    </tr>\n",
       "    <tr>\n",
       "      <th>935</th>\n",
       "      <td>28.0</td>\n",
       "      <td>Female</td>\n",
       "      <td>Bachelor's</td>\n",
       "      <td>Software Engineer</td>\n",
       "      <td>5.0</td>\n",
       "    </tr>\n",
       "    <tr>\n",
       "      <th>2731</th>\n",
       "      <td>25.0</td>\n",
       "      <td>Female</td>\n",
       "      <td>Master's Degree</td>\n",
       "      <td>Software Engineer</td>\n",
       "      <td>2.0</td>\n",
       "    </tr>\n",
       "    <tr>\n",
       "      <th>1517</th>\n",
       "      <td>54.0</td>\n",
       "      <td>Male</td>\n",
       "      <td>PhD</td>\n",
       "      <td>Software Engineer Manager</td>\n",
       "      <td>17.0</td>\n",
       "    </tr>\n",
       "    <tr>\n",
       "      <th>1215</th>\n",
       "      <td>30.0</td>\n",
       "      <td>Female</td>\n",
       "      <td>Bachelor's Degree</td>\n",
       "      <td>Front end Developer</td>\n",
       "      <td>2.0</td>\n",
       "    </tr>\n",
       "    <tr>\n",
       "      <th>4513</th>\n",
       "      <td>48.0</td>\n",
       "      <td>Male</td>\n",
       "      <td>PhD</td>\n",
       "      <td>Data Scientist</td>\n",
       "      <td>22.0</td>\n",
       "    </tr>\n",
       "    <tr>\n",
       "      <th>1941</th>\n",
       "      <td>45.0</td>\n",
       "      <td>Male</td>\n",
       "      <td>PhD</td>\n",
       "      <td>Senior Project Engineer</td>\n",
       "      <td>16.0</td>\n",
       "    </tr>\n",
       "    <tr>\n",
       "      <th>6032</th>\n",
       "      <td>24.0</td>\n",
       "      <td>Male</td>\n",
       "      <td>High School</td>\n",
       "      <td>Delivery Driver</td>\n",
       "      <td>0.0</td>\n",
       "    </tr>\n",
       "    <tr>\n",
       "      <th>2699</th>\n",
       "      <td>28.0</td>\n",
       "      <td>Male</td>\n",
       "      <td>Bachelor's Degree</td>\n",
       "      <td>Software Engineer</td>\n",
       "      <td>4.0</td>\n",
       "    </tr>\n",
       "    <tr>\n",
       "      <th>4933</th>\n",
       "      <td>29.0</td>\n",
       "      <td>Male</td>\n",
       "      <td>Bachelor's Degree</td>\n",
       "      <td>Digital Marketing Manager</td>\n",
       "      <td>6.0</td>\n",
       "    </tr>\n",
       "    <tr>\n",
       "      <th>5267</th>\n",
       "      <td>35.0</td>\n",
       "      <td>Female</td>\n",
       "      <td>PhD</td>\n",
       "      <td>Research Director</td>\n",
       "      <td>11.0</td>\n",
       "    </tr>\n",
       "    <tr>\n",
       "      <th>3494</th>\n",
       "      <td>29.0</td>\n",
       "      <td>Male</td>\n",
       "      <td>Master's Degree</td>\n",
       "      <td>Senior Human Resources Manager</td>\n",
       "      <td>4.0</td>\n",
       "    </tr>\n",
       "    <tr>\n",
       "      <th>1454</th>\n",
       "      <td>27.0</td>\n",
       "      <td>Male</td>\n",
       "      <td>Bachelor's Degree</td>\n",
       "      <td>Front end Developer</td>\n",
       "      <td>3.0</td>\n",
       "    </tr>\n",
       "    <tr>\n",
       "      <th>4648</th>\n",
       "      <td>38.0</td>\n",
       "      <td>Female</td>\n",
       "      <td>PhD</td>\n",
       "      <td>Senior Research Scientist</td>\n",
       "      <td>12.0</td>\n",
       "    </tr>\n",
       "    <tr>\n",
       "      <th>6553</th>\n",
       "      <td>35.0</td>\n",
       "      <td>Female</td>\n",
       "      <td>PhD</td>\n",
       "      <td>Senior Product Marketing Manager</td>\n",
       "      <td>9.0</td>\n",
       "    </tr>\n",
       "    <tr>\n",
       "      <th>4380</th>\n",
       "      <td>29.0</td>\n",
       "      <td>Male</td>\n",
       "      <td>Bachelor's Degree</td>\n",
       "      <td>Software Engineer</td>\n",
       "      <td>4.0</td>\n",
       "    </tr>\n",
       "    <tr>\n",
       "      <th>2375</th>\n",
       "      <td>34.0</td>\n",
       "      <td>Female</td>\n",
       "      <td>Bachelor's Degree</td>\n",
       "      <td>Full Stack Engineer</td>\n",
       "      <td>8.0</td>\n",
       "    </tr>\n",
       "  </tbody>\n",
       "</table>\n",
       "</div>"
      ]
     },
     "metadata": {
      "application/vnd.databricks.v1+output": {
       "addedWidgets": {},
       "arguments": {},
       "data": "<div>\n<style scoped>\n    .dataframe tbody tr th:only-of-type {\n        vertical-align: middle;\n    }\n\n    .dataframe tbody tr th {\n        vertical-align: top;\n    }\n\n    .dataframe thead th {\n        text-align: right;\n    }\n</style>\n<table border=\"1\" class=\"dataframe\">\n  <thead>\n    <tr style=\"text-align: right;\">\n      <th></th>\n      <th>Age</th>\n      <th>Gender</th>\n      <th>Education Level</th>\n      <th>Job Title</th>\n      <th>Years of Experience</th>\n    </tr>\n  </thead>\n  <tbody>\n    <tr>\n      <th>2168</th>\n      <td>49.0</td>\n      <td>Male</td>\n      <td>PhD</td>\n      <td>Senior Project Engineer</td>\n      <td>17.0</td>\n    </tr>\n    <tr>\n      <th>5298</th>\n      <td>26.0</td>\n      <td>Male</td>\n      <td>Bachelor's Degree</td>\n      <td>Junior Software Engineer</td>\n      <td>1.0</td>\n    </tr>\n    <tr>\n      <th>4659</th>\n      <td>25.0</td>\n      <td>Male</td>\n      <td>High School</td>\n      <td>Junior Sales Associate</td>\n      <td>1.0</td>\n    </tr>\n    <tr>\n      <th>3816</th>\n      <td>26.0</td>\n      <td>Female</td>\n      <td>Master's Degree</td>\n      <td>Human Resources Coordinator</td>\n      <td>3.0</td>\n    </tr>\n    <tr>\n      <th>935</th>\n      <td>28.0</td>\n      <td>Female</td>\n      <td>Bachelor's</td>\n      <td>Software Engineer</td>\n      <td>5.0</td>\n    </tr>\n    <tr>\n      <th>2731</th>\n      <td>25.0</td>\n      <td>Female</td>\n      <td>Master's Degree</td>\n      <td>Software Engineer</td>\n      <td>2.0</td>\n    </tr>\n    <tr>\n      <th>1517</th>\n      <td>54.0</td>\n      <td>Male</td>\n      <td>PhD</td>\n      <td>Software Engineer Manager</td>\n      <td>17.0</td>\n    </tr>\n    <tr>\n      <th>1215</th>\n      <td>30.0</td>\n      <td>Female</td>\n      <td>Bachelor's Degree</td>\n      <td>Front end Developer</td>\n      <td>2.0</td>\n    </tr>\n    <tr>\n      <th>4513</th>\n      <td>48.0</td>\n      <td>Male</td>\n      <td>PhD</td>\n      <td>Data Scientist</td>\n      <td>22.0</td>\n    </tr>\n    <tr>\n      <th>1941</th>\n      <td>45.0</td>\n      <td>Male</td>\n      <td>PhD</td>\n      <td>Senior Project Engineer</td>\n      <td>16.0</td>\n    </tr>\n    <tr>\n      <th>6032</th>\n      <td>24.0</td>\n      <td>Male</td>\n      <td>High School</td>\n      <td>Delivery Driver</td>\n      <td>0.0</td>\n    </tr>\n    <tr>\n      <th>2699</th>\n      <td>28.0</td>\n      <td>Male</td>\n      <td>Bachelor's Degree</td>\n      <td>Software Engineer</td>\n      <td>4.0</td>\n    </tr>\n    <tr>\n      <th>4933</th>\n      <td>29.0</td>\n      <td>Male</td>\n      <td>Bachelor's Degree</td>\n      <td>Digital Marketing Manager</td>\n      <td>6.0</td>\n    </tr>\n    <tr>\n      <th>5267</th>\n      <td>35.0</td>\n      <td>Female</td>\n      <td>PhD</td>\n      <td>Research Director</td>\n      <td>11.0</td>\n    </tr>\n    <tr>\n      <th>3494</th>\n      <td>29.0</td>\n      <td>Male</td>\n      <td>Master's Degree</td>\n      <td>Senior Human Resources Manager</td>\n      <td>4.0</td>\n    </tr>\n    <tr>\n      <th>1454</th>\n      <td>27.0</td>\n      <td>Male</td>\n      <td>Bachelor's Degree</td>\n      <td>Front end Developer</td>\n      <td>3.0</td>\n    </tr>\n    <tr>\n      <th>4648</th>\n      <td>38.0</td>\n      <td>Female</td>\n      <td>PhD</td>\n      <td>Senior Research Scientist</td>\n      <td>12.0</td>\n    </tr>\n    <tr>\n      <th>6553</th>\n      <td>35.0</td>\n      <td>Female</td>\n      <td>PhD</td>\n      <td>Senior Product Marketing Manager</td>\n      <td>9.0</td>\n    </tr>\n    <tr>\n      <th>4380</th>\n      <td>29.0</td>\n      <td>Male</td>\n      <td>Bachelor's Degree</td>\n      <td>Software Engineer</td>\n      <td>4.0</td>\n    </tr>\n    <tr>\n      <th>2375</th>\n      <td>34.0</td>\n      <td>Female</td>\n      <td>Bachelor's Degree</td>\n      <td>Full Stack Engineer</td>\n      <td>8.0</td>\n    </tr>\n  </tbody>\n</table>\n</div>",
       "datasetInfos": [],
       "metadata": {},
       "removedWidgets": [],
       "textData": null,
       "type": "htmlSandbox"
      }
     },
     "output_type": "display_data"
    }
   ],
   "source": [
    "X_train.head(20)"
   ]
  },
  {
   "cell_type": "code",
   "execution_count": 0,
   "metadata": {
    "application/vnd.databricks.v1+cell": {
     "cellMetadata": {
      "byteLimit": 2048000,
      "rowLimit": 10000
     },
     "inputWidgets": {},
     "nuid": "4467e1d6-9bd7-4cd3-a089-1366bc0df8ef",
     "showTitle": false,
     "title": ""
    }
   },
   "outputs": [
    {
     "output_type": "display_data",
     "data": {
      "text/html": [
       "<div>\n",
       "<style scoped>\n",
       "    .dataframe tbody tr th:only-of-type {\n",
       "        vertical-align: middle;\n",
       "    }\n",
       "\n",
       "    .dataframe tbody tr th {\n",
       "        vertical-align: top;\n",
       "    }\n",
       "\n",
       "    .dataframe thead th {\n",
       "        text-align: right;\n",
       "    }\n",
       "</style>\n",
       "<table border=\"1\" class=\"dataframe\">\n",
       "  <thead>\n",
       "    <tr style=\"text-align: right;\">\n",
       "      <th></th>\n",
       "      <th>Age</th>\n",
       "      <th>Gender</th>\n",
       "      <th>Education Level</th>\n",
       "      <th>Job Title</th>\n",
       "      <th>Years of Experience</th>\n",
       "    </tr>\n",
       "  </thead>\n",
       "  <tbody>\n",
       "    <tr>\n",
       "      <th>1269</th>\n",
       "      <td>58.0</td>\n",
       "      <td>Male</td>\n",
       "      <td>PhD</td>\n",
       "      <td>Software Engineer Manager</td>\n",
       "      <td>17.0</td>\n",
       "    </tr>\n",
       "    <tr>\n",
       "      <th>5735</th>\n",
       "      <td>33.0</td>\n",
       "      <td>Female</td>\n",
       "      <td>Master's Degree</td>\n",
       "      <td>Marketing Manager</td>\n",
       "      <td>9.0</td>\n",
       "    </tr>\n",
       "    <tr>\n",
       "      <th>1787</th>\n",
       "      <td>28.0</td>\n",
       "      <td>Female</td>\n",
       "      <td>Bachelor's Degree</td>\n",
       "      <td>Front end Developer</td>\n",
       "      <td>2.0</td>\n",
       "    </tr>\n",
       "    <tr>\n",
       "      <th>422</th>\n",
       "      <td>31.0</td>\n",
       "      <td>Female</td>\n",
       "      <td>Bachelor's</td>\n",
       "      <td>Software Engineer</td>\n",
       "      <td>6.0</td>\n",
       "    </tr>\n",
       "    <tr>\n",
       "      <th>4692</th>\n",
       "      <td>29.0</td>\n",
       "      <td>Female</td>\n",
       "      <td>Bachelor's Degree</td>\n",
       "      <td>Junior Marketing Manager</td>\n",
       "      <td>3.0</td>\n",
       "    </tr>\n",
       "  </tbody>\n",
       "</table>\n",
       "</div>"
      ]
     },
     "metadata": {
      "application/vnd.databricks.v1+output": {
       "addedWidgets": {},
       "arguments": {},
       "data": "<div>\n<style scoped>\n    .dataframe tbody tr th:only-of-type {\n        vertical-align: middle;\n    }\n\n    .dataframe tbody tr th {\n        vertical-align: top;\n    }\n\n    .dataframe thead th {\n        text-align: right;\n    }\n</style>\n<table border=\"1\" class=\"dataframe\">\n  <thead>\n    <tr style=\"text-align: right;\">\n      <th></th>\n      <th>Age</th>\n      <th>Gender</th>\n      <th>Education Level</th>\n      <th>Job Title</th>\n      <th>Years of Experience</th>\n    </tr>\n  </thead>\n  <tbody>\n    <tr>\n      <th>1269</th>\n      <td>58.0</td>\n      <td>Male</td>\n      <td>PhD</td>\n      <td>Software Engineer Manager</td>\n      <td>17.0</td>\n    </tr>\n    <tr>\n      <th>5735</th>\n      <td>33.0</td>\n      <td>Female</td>\n      <td>Master's Degree</td>\n      <td>Marketing Manager</td>\n      <td>9.0</td>\n    </tr>\n    <tr>\n      <th>1787</th>\n      <td>28.0</td>\n      <td>Female</td>\n      <td>Bachelor's Degree</td>\n      <td>Front end Developer</td>\n      <td>2.0</td>\n    </tr>\n    <tr>\n      <th>422</th>\n      <td>31.0</td>\n      <td>Female</td>\n      <td>Bachelor's</td>\n      <td>Software Engineer</td>\n      <td>6.0</td>\n    </tr>\n    <tr>\n      <th>4692</th>\n      <td>29.0</td>\n      <td>Female</td>\n      <td>Bachelor's Degree</td>\n      <td>Junior Marketing Manager</td>\n      <td>3.0</td>\n    </tr>\n  </tbody>\n</table>\n</div>",
       "datasetInfos": [],
       "metadata": {},
       "removedWidgets": [],
       "textData": null,
       "type": "htmlSandbox"
      }
     },
     "output_type": "display_data"
    }
   ],
   "source": [
    "X_test.head()"
   ]
  },
  {
   "cell_type": "code",
   "execution_count": 0,
   "metadata": {
    "application/vnd.databricks.v1+cell": {
     "cellMetadata": {
      "byteLimit": 2048000,
      "rowLimit": 10000
     },
     "inputWidgets": {},
     "nuid": "a881f1ed-c973-4a87-af61-2353ae05c012",
     "showTitle": false,
     "title": ""
    }
   },
   "outputs": [
    {
     "output_type": "display_data",
     "data": {
      "text/html": [
       "<div>\n",
       "<style scoped>\n",
       "    .dataframe tbody tr th:only-of-type {\n",
       "        vertical-align: middle;\n",
       "    }\n",
       "\n",
       "    .dataframe tbody tr th {\n",
       "        vertical-align: top;\n",
       "    }\n",
       "\n",
       "    .dataframe thead th {\n",
       "        text-align: right;\n",
       "    }\n",
       "</style>\n",
       "<table border=\"1\" class=\"dataframe\">\n",
       "  <thead>\n",
       "    <tr style=\"text-align: right;\">\n",
       "      <th></th>\n",
       "      <th>Age</th>\n",
       "      <th>Gender</th>\n",
       "      <th>Education Level</th>\n",
       "      <th>Job Title</th>\n",
       "      <th>Years of Experience</th>\n",
       "    </tr>\n",
       "  </thead>\n",
       "  <tbody>\n",
       "    <tr>\n",
       "      <th>2168</th>\n",
       "      <td>49.0</td>\n",
       "      <td>Male</td>\n",
       "      <td>PhD</td>\n",
       "      <td>Senior Project Engineer</td>\n",
       "      <td>17.0</td>\n",
       "    </tr>\n",
       "    <tr>\n",
       "      <th>5298</th>\n",
       "      <td>26.0</td>\n",
       "      <td>Male</td>\n",
       "      <td>Bachelor's Degree</td>\n",
       "      <td>Junior Software Engineer</td>\n",
       "      <td>1.0</td>\n",
       "    </tr>\n",
       "    <tr>\n",
       "      <th>4659</th>\n",
       "      <td>25.0</td>\n",
       "      <td>Male</td>\n",
       "      <td>High School</td>\n",
       "      <td>Junior Sales Associate</td>\n",
       "      <td>1.0</td>\n",
       "    </tr>\n",
       "    <tr>\n",
       "      <th>3816</th>\n",
       "      <td>26.0</td>\n",
       "      <td>Female</td>\n",
       "      <td>Master's Degree</td>\n",
       "      <td>Human Resources Coordinator</td>\n",
       "      <td>3.0</td>\n",
       "    </tr>\n",
       "    <tr>\n",
       "      <th>935</th>\n",
       "      <td>28.0</td>\n",
       "      <td>Female</td>\n",
       "      <td>Bachelor's</td>\n",
       "      <td>Software Engineer</td>\n",
       "      <td>5.0</td>\n",
       "    </tr>\n",
       "  </tbody>\n",
       "</table>\n",
       "</div>"
      ]
     },
     "metadata": {
      "application/vnd.databricks.v1+output": {
       "addedWidgets": {},
       "arguments": {},
       "data": "<div>\n<style scoped>\n    .dataframe tbody tr th:only-of-type {\n        vertical-align: middle;\n    }\n\n    .dataframe tbody tr th {\n        vertical-align: top;\n    }\n\n    .dataframe thead th {\n        text-align: right;\n    }\n</style>\n<table border=\"1\" class=\"dataframe\">\n  <thead>\n    <tr style=\"text-align: right;\">\n      <th></th>\n      <th>Age</th>\n      <th>Gender</th>\n      <th>Education Level</th>\n      <th>Job Title</th>\n      <th>Years of Experience</th>\n    </tr>\n  </thead>\n  <tbody>\n    <tr>\n      <th>2168</th>\n      <td>49.0</td>\n      <td>Male</td>\n      <td>PhD</td>\n      <td>Senior Project Engineer</td>\n      <td>17.0</td>\n    </tr>\n    <tr>\n      <th>5298</th>\n      <td>26.0</td>\n      <td>Male</td>\n      <td>Bachelor's Degree</td>\n      <td>Junior Software Engineer</td>\n      <td>1.0</td>\n    </tr>\n    <tr>\n      <th>4659</th>\n      <td>25.0</td>\n      <td>Male</td>\n      <td>High School</td>\n      <td>Junior Sales Associate</td>\n      <td>1.0</td>\n    </tr>\n    <tr>\n      <th>3816</th>\n      <td>26.0</td>\n      <td>Female</td>\n      <td>Master's Degree</td>\n      <td>Human Resources Coordinator</td>\n      <td>3.0</td>\n    </tr>\n    <tr>\n      <th>935</th>\n      <td>28.0</td>\n      <td>Female</td>\n      <td>Bachelor's</td>\n      <td>Software Engineer</td>\n      <td>5.0</td>\n    </tr>\n  </tbody>\n</table>\n</div>",
       "datasetInfos": [],
       "metadata": {},
       "removedWidgets": [],
       "textData": null,
       "type": "htmlSandbox"
      }
     },
     "output_type": "display_data"
    }
   ],
   "source": [
    "columns = [\"Gender\",\"Education Level\"]\n",
    "X_train_category = X_train[columns]\n",
    "X_train.head()"
   ]
  },
  {
   "cell_type": "code",
   "execution_count": 0,
   "metadata": {
    "application/vnd.databricks.v1+cell": {
     "cellMetadata": {
      "byteLimit": 2048000,
      "rowLimit": 10000
     },
     "inputWidgets": {},
     "nuid": "428d1988-bf41-40e9-a84f-9ef6cf717092",
     "showTitle": false,
     "title": ""
    }
   },
   "outputs": [],
   "source": [
    "from sklearn.preprocessing import OneHotEncoder\n",
    "fsohe = OneHotEncoder(drop='first',sparse=False)\n",
    "X_train_ohe = pd.DataFrame(fsohe.fit_transform(X_train_category),columns=fsohe.get_feature_names_out(X_train_category.columns),index=X_train_category.index)"
   ]
  },
  {
   "cell_type": "code",
   "execution_count": 0,
   "metadata": {
    "application/vnd.databricks.v1+cell": {
     "cellMetadata": {
      "byteLimit": 2048000,
      "rowLimit": 10000
     },
     "inputWidgets": {},
     "nuid": "48c8025e-f3d7-4275-b9ea-af7cac3c3c8f",
     "showTitle": false,
     "title": ""
    }
   },
   "outputs": [
    {
     "output_type": "display_data",
     "data": {
      "text/html": [
       "<div>\n",
       "<style scoped>\n",
       "    .dataframe tbody tr th:only-of-type {\n",
       "        vertical-align: middle;\n",
       "    }\n",
       "\n",
       "    .dataframe tbody tr th {\n",
       "        vertical-align: top;\n",
       "    }\n",
       "\n",
       "    .dataframe thead th {\n",
       "        text-align: right;\n",
       "    }\n",
       "</style>\n",
       "<table border=\"1\" class=\"dataframe\">\n",
       "  <thead>\n",
       "    <tr style=\"text-align: right;\">\n",
       "      <th></th>\n",
       "      <th>Gender_Male</th>\n",
       "      <th>Gender_Other</th>\n",
       "      <th>Education Level_Bachelor's Degree</th>\n",
       "      <th>Education Level_High School</th>\n",
       "      <th>Education Level_Master's</th>\n",
       "      <th>Education Level_Master's Degree</th>\n",
       "      <th>Education Level_PhD</th>\n",
       "    </tr>\n",
       "  </thead>\n",
       "  <tbody>\n",
       "    <tr>\n",
       "      <th>2168</th>\n",
       "      <td>1.0</td>\n",
       "      <td>0.0</td>\n",
       "      <td>0.0</td>\n",
       "      <td>0.0</td>\n",
       "      <td>0.0</td>\n",
       "      <td>0.0</td>\n",
       "      <td>1.0</td>\n",
       "    </tr>\n",
       "    <tr>\n",
       "      <th>5298</th>\n",
       "      <td>1.0</td>\n",
       "      <td>0.0</td>\n",
       "      <td>1.0</td>\n",
       "      <td>0.0</td>\n",
       "      <td>0.0</td>\n",
       "      <td>0.0</td>\n",
       "      <td>0.0</td>\n",
       "    </tr>\n",
       "    <tr>\n",
       "      <th>4659</th>\n",
       "      <td>1.0</td>\n",
       "      <td>0.0</td>\n",
       "      <td>0.0</td>\n",
       "      <td>1.0</td>\n",
       "      <td>0.0</td>\n",
       "      <td>0.0</td>\n",
       "      <td>0.0</td>\n",
       "    </tr>\n",
       "    <tr>\n",
       "      <th>3816</th>\n",
       "      <td>0.0</td>\n",
       "      <td>0.0</td>\n",
       "      <td>0.0</td>\n",
       "      <td>0.0</td>\n",
       "      <td>0.0</td>\n",
       "      <td>1.0</td>\n",
       "      <td>0.0</td>\n",
       "    </tr>\n",
       "    <tr>\n",
       "      <th>935</th>\n",
       "      <td>0.0</td>\n",
       "      <td>0.0</td>\n",
       "      <td>0.0</td>\n",
       "      <td>0.0</td>\n",
       "      <td>0.0</td>\n",
       "      <td>0.0</td>\n",
       "      <td>0.0</td>\n",
       "    </tr>\n",
       "  </tbody>\n",
       "</table>\n",
       "</div>"
      ]
     },
     "metadata": {
      "application/vnd.databricks.v1+output": {
       "addedWidgets": {},
       "arguments": {},
       "data": "<div>\n<style scoped>\n    .dataframe tbody tr th:only-of-type {\n        vertical-align: middle;\n    }\n\n    .dataframe tbody tr th {\n        vertical-align: top;\n    }\n\n    .dataframe thead th {\n        text-align: right;\n    }\n</style>\n<table border=\"1\" class=\"dataframe\">\n  <thead>\n    <tr style=\"text-align: right;\">\n      <th></th>\n      <th>Gender_Male</th>\n      <th>Gender_Other</th>\n      <th>Education Level_Bachelor's Degree</th>\n      <th>Education Level_High School</th>\n      <th>Education Level_Master's</th>\n      <th>Education Level_Master's Degree</th>\n      <th>Education Level_PhD</th>\n    </tr>\n  </thead>\n  <tbody>\n    <tr>\n      <th>2168</th>\n      <td>1.0</td>\n      <td>0.0</td>\n      <td>0.0</td>\n      <td>0.0</td>\n      <td>0.0</td>\n      <td>0.0</td>\n      <td>1.0</td>\n    </tr>\n    <tr>\n      <th>5298</th>\n      <td>1.0</td>\n      <td>0.0</td>\n      <td>1.0</td>\n      <td>0.0</td>\n      <td>0.0</td>\n      <td>0.0</td>\n      <td>0.0</td>\n    </tr>\n    <tr>\n      <th>4659</th>\n      <td>1.0</td>\n      <td>0.0</td>\n      <td>0.0</td>\n      <td>1.0</td>\n      <td>0.0</td>\n      <td>0.0</td>\n      <td>0.0</td>\n    </tr>\n    <tr>\n      <th>3816</th>\n      <td>0.0</td>\n      <td>0.0</td>\n      <td>0.0</td>\n      <td>0.0</td>\n      <td>0.0</td>\n      <td>1.0</td>\n      <td>0.0</td>\n    </tr>\n    <tr>\n      <th>935</th>\n      <td>0.0</td>\n      <td>0.0</td>\n      <td>0.0</td>\n      <td>0.0</td>\n      <td>0.0</td>\n      <td>0.0</td>\n      <td>0.0</td>\n    </tr>\n  </tbody>\n</table>\n</div>",
       "datasetInfos": [],
       "metadata": {},
       "removedWidgets": [],
       "textData": null,
       "type": "htmlSandbox"
      }
     },
     "output_type": "display_data"
    }
   ],
   "source": [
    "X_train_ohe.head()"
   ]
  },
  {
   "cell_type": "code",
   "execution_count": 0,
   "metadata": {
    "application/vnd.databricks.v1+cell": {
     "cellMetadata": {
      "byteLimit": 2048000,
      "rowLimit": 10000
     },
     "inputWidgets": {},
     "nuid": "6db25e66-8052-4d56-964b-b4c700df267c",
     "showTitle": false,
     "title": ""
    }
   },
   "outputs": [
    {
     "output_type": "display_data",
     "data": {
      "text/html": [
       "<div>\n",
       "<style scoped>\n",
       "    .dataframe tbody tr th:only-of-type {\n",
       "        vertical-align: middle;\n",
       "    }\n",
       "\n",
       "    .dataframe tbody tr th {\n",
       "        vertical-align: top;\n",
       "    }\n",
       "\n",
       "    .dataframe thead th {\n",
       "        text-align: right;\n",
       "    }\n",
       "</style>\n",
       "<table border=\"1\" class=\"dataframe\">\n",
       "  <thead>\n",
       "    <tr style=\"text-align: right;\">\n",
       "      <th></th>\n",
       "      <th>Age</th>\n",
       "      <th>Years of Experience</th>\n",
       "    </tr>\n",
       "  </thead>\n",
       "  <tbody>\n",
       "    <tr>\n",
       "      <th>2168</th>\n",
       "      <td>49.0</td>\n",
       "      <td>17.0</td>\n",
       "    </tr>\n",
       "    <tr>\n",
       "      <th>5298</th>\n",
       "      <td>26.0</td>\n",
       "      <td>1.0</td>\n",
       "    </tr>\n",
       "    <tr>\n",
       "      <th>4659</th>\n",
       "      <td>25.0</td>\n",
       "      <td>1.0</td>\n",
       "    </tr>\n",
       "    <tr>\n",
       "      <th>3816</th>\n",
       "      <td>26.0</td>\n",
       "      <td>3.0</td>\n",
       "    </tr>\n",
       "    <tr>\n",
       "      <th>935</th>\n",
       "      <td>28.0</td>\n",
       "      <td>5.0</td>\n",
       "    </tr>\n",
       "    <tr>\n",
       "      <th>...</th>\n",
       "      <td>...</td>\n",
       "      <td>...</td>\n",
       "    </tr>\n",
       "    <tr>\n",
       "      <th>4935</th>\n",
       "      <td>33.0</td>\n",
       "      <td>10.0</td>\n",
       "    </tr>\n",
       "    <tr>\n",
       "      <th>3268</th>\n",
       "      <td>34.0</td>\n",
       "      <td>9.0</td>\n",
       "    </tr>\n",
       "    <tr>\n",
       "      <th>1655</th>\n",
       "      <td>55.0</td>\n",
       "      <td>18.0</td>\n",
       "    </tr>\n",
       "    <tr>\n",
       "      <th>2610</th>\n",
       "      <td>43.0</td>\n",
       "      <td>17.0</td>\n",
       "    </tr>\n",
       "    <tr>\n",
       "      <th>2735</th>\n",
       "      <td>34.0</td>\n",
       "      <td>8.0</td>\n",
       "    </tr>\n",
       "  </tbody>\n",
       "</table>\n",
       "<p>5023 rows × 2 columns</p>\n",
       "</div>"
      ]
     },
     "metadata": {
      "application/vnd.databricks.v1+output": {
       "addedWidgets": {},
       "arguments": {},
       "data": "<div>\n<style scoped>\n    .dataframe tbody tr th:only-of-type {\n        vertical-align: middle;\n    }\n\n    .dataframe tbody tr th {\n        vertical-align: top;\n    }\n\n    .dataframe thead th {\n        text-align: right;\n    }\n</style>\n<table border=\"1\" class=\"dataframe\">\n  <thead>\n    <tr style=\"text-align: right;\">\n      <th></th>\n      <th>Age</th>\n      <th>Years of Experience</th>\n    </tr>\n  </thead>\n  <tbody>\n    <tr>\n      <th>2168</th>\n      <td>49.0</td>\n      <td>17.0</td>\n    </tr>\n    <tr>\n      <th>5298</th>\n      <td>26.0</td>\n      <td>1.0</td>\n    </tr>\n    <tr>\n      <th>4659</th>\n      <td>25.0</td>\n      <td>1.0</td>\n    </tr>\n    <tr>\n      <th>3816</th>\n      <td>26.0</td>\n      <td>3.0</td>\n    </tr>\n    <tr>\n      <th>935</th>\n      <td>28.0</td>\n      <td>5.0</td>\n    </tr>\n    <tr>\n      <th>...</th>\n      <td>...</td>\n      <td>...</td>\n    </tr>\n    <tr>\n      <th>4935</th>\n      <td>33.0</td>\n      <td>10.0</td>\n    </tr>\n    <tr>\n      <th>3268</th>\n      <td>34.0</td>\n      <td>9.0</td>\n    </tr>\n    <tr>\n      <th>1655</th>\n      <td>55.0</td>\n      <td>18.0</td>\n    </tr>\n    <tr>\n      <th>2610</th>\n      <td>43.0</td>\n      <td>17.0</td>\n    </tr>\n    <tr>\n      <th>2735</th>\n      <td>34.0</td>\n      <td>8.0</td>\n    </tr>\n  </tbody>\n</table>\n<p>5023 rows × 2 columns</p>\n</div>",
       "datasetInfos": [],
       "metadata": {},
       "removedWidgets": [],
       "textData": null,
       "type": "htmlSandbox"
      }
     },
     "output_type": "display_data"
    }
   ],
   "source": [
    "X_train_numeric = X_train.select_dtypes(include=['float64'])\n",
    "X_train_numeric"
   ]
  },
  {
   "cell_type": "code",
   "execution_count": 0,
   "metadata": {
    "application/vnd.databricks.v1+cell": {
     "cellMetadata": {
      "byteLimit": 2048000,
      "rowLimit": 10000
     },
     "inputWidgets": {},
     "nuid": "7f3689f4-26ef-4363-9ae1-c7ea18ed78d8",
     "showTitle": false,
     "title": ""
    }
   },
   "outputs": [
    {
     "output_type": "display_data",
     "data": {
      "text/html": [
       "<div>\n",
       "<style scoped>\n",
       "    .dataframe tbody tr th:only-of-type {\n",
       "        vertical-align: middle;\n",
       "    }\n",
       "\n",
       "    .dataframe tbody tr th {\n",
       "        vertical-align: top;\n",
       "    }\n",
       "\n",
       "    .dataframe thead th {\n",
       "        text-align: right;\n",
       "    }\n",
       "</style>\n",
       "<table border=\"1\" class=\"dataframe\">\n",
       "  <thead>\n",
       "    <tr style=\"text-align: right;\">\n",
       "      <th></th>\n",
       "      <th>Age</th>\n",
       "      <th>Years of Experience</th>\n",
       "    </tr>\n",
       "  </thead>\n",
       "  <tbody>\n",
       "    <tr>\n",
       "      <th>2168</th>\n",
       "      <td>2.013239</td>\n",
       "      <td>1.463217</td>\n",
       "    </tr>\n",
       "    <tr>\n",
       "      <th>5298</th>\n",
       "      <td>-1.006632</td>\n",
       "      <td>-1.178941</td>\n",
       "    </tr>\n",
       "    <tr>\n",
       "      <th>4659</th>\n",
       "      <td>-1.137931</td>\n",
       "      <td>-1.178941</td>\n",
       "    </tr>\n",
       "    <tr>\n",
       "      <th>3816</th>\n",
       "      <td>-1.006632</td>\n",
       "      <td>-0.848671</td>\n",
       "    </tr>\n",
       "    <tr>\n",
       "      <th>935</th>\n",
       "      <td>-0.744035</td>\n",
       "      <td>-0.518401</td>\n",
       "    </tr>\n",
       "  </tbody>\n",
       "</table>\n",
       "</div>"
      ]
     },
     "metadata": {
      "application/vnd.databricks.v1+output": {
       "addedWidgets": {},
       "arguments": {},
       "data": "<div>\n<style scoped>\n    .dataframe tbody tr th:only-of-type {\n        vertical-align: middle;\n    }\n\n    .dataframe tbody tr th {\n        vertical-align: top;\n    }\n\n    .dataframe thead th {\n        text-align: right;\n    }\n</style>\n<table border=\"1\" class=\"dataframe\">\n  <thead>\n    <tr style=\"text-align: right;\">\n      <th></th>\n      <th>Age</th>\n      <th>Years of Experience</th>\n    </tr>\n  </thead>\n  <tbody>\n    <tr>\n      <th>2168</th>\n      <td>2.013239</td>\n      <td>1.463217</td>\n    </tr>\n    <tr>\n      <th>5298</th>\n      <td>-1.006632</td>\n      <td>-1.178941</td>\n    </tr>\n    <tr>\n      <th>4659</th>\n      <td>-1.137931</td>\n      <td>-1.178941</td>\n    </tr>\n    <tr>\n      <th>3816</th>\n      <td>-1.006632</td>\n      <td>-0.848671</td>\n    </tr>\n    <tr>\n      <th>935</th>\n      <td>-0.744035</td>\n      <td>-0.518401</td>\n    </tr>\n  </tbody>\n</table>\n</div>",
       "datasetInfos": [],
       "metadata": {},
       "removedWidgets": [],
       "textData": null,
       "type": "htmlSandbox"
      }
     },
     "output_type": "display_data"
    }
   ],
   "source": [
    "from sklearn.preprocessing import StandardScaler\n",
    "ss=StandardScaler()\n",
    "X_train_number = pd.DataFrame(ss.fit_transform(X_train_numeric),columns=X_train_numeric.columns,index=X_train_numeric.index)\n",
    "X_train_number.head()"
   ]
  },
  {
   "cell_type": "code",
   "execution_count": 0,
   "metadata": {
    "application/vnd.databricks.v1+cell": {
     "cellMetadata": {
      "byteLimit": 2048000,
      "rowLimit": 10000
     },
     "inputWidgets": {},
     "nuid": "39d9fe69-8f61-47c1-b1bd-2c3a1ea1f729",
     "showTitle": false,
     "title": ""
    }
   },
   "outputs": [],
   "source": [
    "X_train_scaled = pd.concat([X_train_ohe,X_train_number],axis=1)"
   ]
  },
  {
   "cell_type": "code",
   "execution_count": 0,
   "metadata": {
    "application/vnd.databricks.v1+cell": {
     "cellMetadata": {
      "byteLimit": 2048000,
      "rowLimit": 10000
     },
     "inputWidgets": {},
     "nuid": "16ba9c10-7ef5-41b4-aba8-74530a6c5a5c",
     "showTitle": false,
     "title": ""
    }
   },
   "outputs": [
    {
     "output_type": "display_data",
     "data": {
      "text/html": [
       "<div>\n",
       "<style scoped>\n",
       "    .dataframe tbody tr th:only-of-type {\n",
       "        vertical-align: middle;\n",
       "    }\n",
       "\n",
       "    .dataframe tbody tr th {\n",
       "        vertical-align: top;\n",
       "    }\n",
       "\n",
       "    .dataframe thead th {\n",
       "        text-align: right;\n",
       "    }\n",
       "</style>\n",
       "<table border=\"1\" class=\"dataframe\">\n",
       "  <thead>\n",
       "    <tr style=\"text-align: right;\">\n",
       "      <th></th>\n",
       "      <th>Age</th>\n",
       "      <th>Gender</th>\n",
       "      <th>Education Level</th>\n",
       "      <th>Job Title</th>\n",
       "      <th>Years of Experience</th>\n",
       "    </tr>\n",
       "  </thead>\n",
       "  <tbody>\n",
       "    <tr>\n",
       "      <th>1269</th>\n",
       "      <td>58.0</td>\n",
       "      <td>Male</td>\n",
       "      <td>PhD</td>\n",
       "      <td>Software Engineer Manager</td>\n",
       "      <td>17.0</td>\n",
       "    </tr>\n",
       "    <tr>\n",
       "      <th>5735</th>\n",
       "      <td>33.0</td>\n",
       "      <td>Female</td>\n",
       "      <td>Master's Degree</td>\n",
       "      <td>Marketing Manager</td>\n",
       "      <td>9.0</td>\n",
       "    </tr>\n",
       "    <tr>\n",
       "      <th>1787</th>\n",
       "      <td>28.0</td>\n",
       "      <td>Female</td>\n",
       "      <td>Bachelor's Degree</td>\n",
       "      <td>Front end Developer</td>\n",
       "      <td>2.0</td>\n",
       "    </tr>\n",
       "    <tr>\n",
       "      <th>422</th>\n",
       "      <td>31.0</td>\n",
       "      <td>Female</td>\n",
       "      <td>Bachelor's</td>\n",
       "      <td>Software Engineer</td>\n",
       "      <td>6.0</td>\n",
       "    </tr>\n",
       "    <tr>\n",
       "      <th>4692</th>\n",
       "      <td>29.0</td>\n",
       "      <td>Female</td>\n",
       "      <td>Bachelor's Degree</td>\n",
       "      <td>Junior Marketing Manager</td>\n",
       "      <td>3.0</td>\n",
       "    </tr>\n",
       "  </tbody>\n",
       "</table>\n",
       "</div>"
      ]
     },
     "metadata": {
      "application/vnd.databricks.v1+output": {
       "addedWidgets": {},
       "arguments": {},
       "data": "<div>\n<style scoped>\n    .dataframe tbody tr th:only-of-type {\n        vertical-align: middle;\n    }\n\n    .dataframe tbody tr th {\n        vertical-align: top;\n    }\n\n    .dataframe thead th {\n        text-align: right;\n    }\n</style>\n<table border=\"1\" class=\"dataframe\">\n  <thead>\n    <tr style=\"text-align: right;\">\n      <th></th>\n      <th>Age</th>\n      <th>Gender</th>\n      <th>Education Level</th>\n      <th>Job Title</th>\n      <th>Years of Experience</th>\n    </tr>\n  </thead>\n  <tbody>\n    <tr>\n      <th>1269</th>\n      <td>58.0</td>\n      <td>Male</td>\n      <td>PhD</td>\n      <td>Software Engineer Manager</td>\n      <td>17.0</td>\n    </tr>\n    <tr>\n      <th>5735</th>\n      <td>33.0</td>\n      <td>Female</td>\n      <td>Master's Degree</td>\n      <td>Marketing Manager</td>\n      <td>9.0</td>\n    </tr>\n    <tr>\n      <th>1787</th>\n      <td>28.0</td>\n      <td>Female</td>\n      <td>Bachelor's Degree</td>\n      <td>Front end Developer</td>\n      <td>2.0</td>\n    </tr>\n    <tr>\n      <th>422</th>\n      <td>31.0</td>\n      <td>Female</td>\n      <td>Bachelor's</td>\n      <td>Software Engineer</td>\n      <td>6.0</td>\n    </tr>\n    <tr>\n      <th>4692</th>\n      <td>29.0</td>\n      <td>Female</td>\n      <td>Bachelor's Degree</td>\n      <td>Junior Marketing Manager</td>\n      <td>3.0</td>\n    </tr>\n  </tbody>\n</table>\n</div>",
       "datasetInfos": [],
       "metadata": {},
       "removedWidgets": [],
       "textData": null,
       "type": "htmlSandbox"
      }
     },
     "output_type": "display_data"
    }
   ],
   "source": [
    "X_test.head()"
   ]
  },
  {
   "cell_type": "code",
   "execution_count": 0,
   "metadata": {
    "application/vnd.databricks.v1+cell": {
     "cellMetadata": {
      "byteLimit": 2048000,
      "rowLimit": 10000
     },
     "inputWidgets": {},
     "nuid": "86324845-b7f7-4a2a-8d41-2b3a2882ca2b",
     "showTitle": false,
     "title": ""
    }
   },
   "outputs": [],
   "source": [
    "columns = [\"Gender\",\"Education Level\"]\n",
    "X_test_cat = X_test[columns]\n",
    "X_test_numeric = X_test.select_dtypes(include=['float64'])\n",
    "\n",
    "X_test_category = pd.DataFrame(fsohe.transform(X_test_cat),columns=fsohe.get_feature_names_out(X_test_cat.columns),index=X_test_cat.index)\n",
    "\n",
    "X_test_numeric = pd.DataFrame(ss.transform(X_test_numeric),columns=X_test_numeric.columns,index=X_test_numeric.index)"
   ]
  },
  {
   "cell_type": "code",
   "execution_count": 0,
   "metadata": {
    "application/vnd.databricks.v1+cell": {
     "cellMetadata": {
      "byteLimit": 2048000,
      "rowLimit": 10000
     },
     "inputWidgets": {},
     "nuid": "efeac906-3c2a-4647-b092-5c1967cb4438",
     "showTitle": false,
     "title": ""
    }
   },
   "outputs": [
    {
     "output_type": "display_data",
     "data": {
      "text/html": [
       "<div>\n",
       "<style scoped>\n",
       "    .dataframe tbody tr th:only-of-type {\n",
       "        vertical-align: middle;\n",
       "    }\n",
       "\n",
       "    .dataframe tbody tr th {\n",
       "        vertical-align: top;\n",
       "    }\n",
       "\n",
       "    .dataframe thead th {\n",
       "        text-align: right;\n",
       "    }\n",
       "</style>\n",
       "<table border=\"1\" class=\"dataframe\">\n",
       "  <thead>\n",
       "    <tr style=\"text-align: right;\">\n",
       "      <th></th>\n",
       "      <th>Age</th>\n",
       "      <th>Years of Experience</th>\n",
       "    </tr>\n",
       "  </thead>\n",
       "  <tbody>\n",
       "    <tr>\n",
       "      <th>1269</th>\n",
       "      <td>3.194927</td>\n",
       "      <td>1.463217</td>\n",
       "    </tr>\n",
       "    <tr>\n",
       "      <th>5735</th>\n",
       "      <td>-0.087541</td>\n",
       "      <td>0.142138</td>\n",
       "    </tr>\n",
       "    <tr>\n",
       "      <th>1787</th>\n",
       "      <td>-0.744035</td>\n",
       "      <td>-1.013806</td>\n",
       "    </tr>\n",
       "    <tr>\n",
       "      <th>422</th>\n",
       "      <td>-0.350139</td>\n",
       "      <td>-0.353266</td>\n",
       "    </tr>\n",
       "    <tr>\n",
       "      <th>4692</th>\n",
       "      <td>-0.612736</td>\n",
       "      <td>-0.848671</td>\n",
       "    </tr>\n",
       "  </tbody>\n",
       "</table>\n",
       "</div>"
      ]
     },
     "metadata": {
      "application/vnd.databricks.v1+output": {
       "addedWidgets": {},
       "arguments": {},
       "data": "<div>\n<style scoped>\n    .dataframe tbody tr th:only-of-type {\n        vertical-align: middle;\n    }\n\n    .dataframe tbody tr th {\n        vertical-align: top;\n    }\n\n    .dataframe thead th {\n        text-align: right;\n    }\n</style>\n<table border=\"1\" class=\"dataframe\">\n  <thead>\n    <tr style=\"text-align: right;\">\n      <th></th>\n      <th>Age</th>\n      <th>Years of Experience</th>\n    </tr>\n  </thead>\n  <tbody>\n    <tr>\n      <th>1269</th>\n      <td>3.194927</td>\n      <td>1.463217</td>\n    </tr>\n    <tr>\n      <th>5735</th>\n      <td>-0.087541</td>\n      <td>0.142138</td>\n    </tr>\n    <tr>\n      <th>1787</th>\n      <td>-0.744035</td>\n      <td>-1.013806</td>\n    </tr>\n    <tr>\n      <th>422</th>\n      <td>-0.350139</td>\n      <td>-0.353266</td>\n    </tr>\n    <tr>\n      <th>4692</th>\n      <td>-0.612736</td>\n      <td>-0.848671</td>\n    </tr>\n  </tbody>\n</table>\n</div>",
       "datasetInfos": [],
       "metadata": {},
       "removedWidgets": [],
       "textData": null,
       "type": "htmlSandbox"
      }
     },
     "output_type": "display_data"
    }
   ],
   "source": [
    "X_test_numeric.head()"
   ]
  },
  {
   "cell_type": "code",
   "execution_count": 0,
   "metadata": {
    "application/vnd.databricks.v1+cell": {
     "cellMetadata": {
      "byteLimit": 2048000,
      "rowLimit": 10000
     },
     "inputWidgets": {},
     "nuid": "73e3c180-2a63-4f5f-af3a-af8cc3494e0a",
     "showTitle": false,
     "title": ""
    }
   },
   "outputs": [],
   "source": [
    "X_test_cat.loc[X_test_cat['Education Level'] == 'phD','Education Level'] = 'PhD'"
   ]
  },
  {
   "cell_type": "code",
   "execution_count": 0,
   "metadata": {
    "application/vnd.databricks.v1+cell": {
     "cellMetadata": {
      "byteLimit": 2048000,
      "rowLimit": 10000
     },
     "inputWidgets": {},
     "nuid": "51f82717-6158-4c31-9ad1-625498d6aa09",
     "showTitle": false,
     "title": ""
    }
   },
   "outputs": [
    {
     "output_type": "stream",
     "name": "stdout",
     "output_type": "stream",
     "text": [
      "Out[58]: Index(['Gender', 'Education Level'], dtype='object')"
     ]
    }
   ],
   "source": [
    "X_test_drop.columns"
   ]
  },
  {
   "cell_type": "code",
   "execution_count": 0,
   "metadata": {
    "application/vnd.databricks.v1+cell": {
     "cellMetadata": {
      "byteLimit": 2048000,
      "rowLimit": 10000
     },
     "inputWidgets": {},
     "nuid": "afb53544-de0e-476b-a775-99966fc16a6e",
     "showTitle": false,
     "title": ""
    }
   },
   "outputs": [
    {
     "output_type": "display_data",
     "data": {
      "text/html": [
       "<div>\n",
       "<style scoped>\n",
       "    .dataframe tbody tr th:only-of-type {\n",
       "        vertical-align: middle;\n",
       "    }\n",
       "\n",
       "    .dataframe tbody tr th {\n",
       "        vertical-align: top;\n",
       "    }\n",
       "\n",
       "    .dataframe thead th {\n",
       "        text-align: right;\n",
       "    }\n",
       "</style>\n",
       "<table border=\"1\" class=\"dataframe\">\n",
       "  <thead>\n",
       "    <tr style=\"text-align: right;\">\n",
       "      <th></th>\n",
       "      <th>Gender_Male</th>\n",
       "      <th>Gender_Other</th>\n",
       "      <th>Education Level_Bachelor's Degree</th>\n",
       "      <th>Education Level_High School</th>\n",
       "      <th>Education Level_Master's</th>\n",
       "      <th>Education Level_Master's Degree</th>\n",
       "      <th>Education Level_PhD</th>\n",
       "    </tr>\n",
       "  </thead>\n",
       "  <tbody>\n",
       "    <tr>\n",
       "      <th>1269</th>\n",
       "      <td>1.0</td>\n",
       "      <td>0.0</td>\n",
       "      <td>0.0</td>\n",
       "      <td>0.0</td>\n",
       "      <td>0.0</td>\n",
       "      <td>0.0</td>\n",
       "      <td>1.0</td>\n",
       "    </tr>\n",
       "    <tr>\n",
       "      <th>5735</th>\n",
       "      <td>0.0</td>\n",
       "      <td>0.0</td>\n",
       "      <td>0.0</td>\n",
       "      <td>0.0</td>\n",
       "      <td>0.0</td>\n",
       "      <td>1.0</td>\n",
       "      <td>0.0</td>\n",
       "    </tr>\n",
       "    <tr>\n",
       "      <th>1787</th>\n",
       "      <td>0.0</td>\n",
       "      <td>0.0</td>\n",
       "      <td>1.0</td>\n",
       "      <td>0.0</td>\n",
       "      <td>0.0</td>\n",
       "      <td>0.0</td>\n",
       "      <td>0.0</td>\n",
       "    </tr>\n",
       "    <tr>\n",
       "      <th>422</th>\n",
       "      <td>0.0</td>\n",
       "      <td>0.0</td>\n",
       "      <td>0.0</td>\n",
       "      <td>0.0</td>\n",
       "      <td>0.0</td>\n",
       "      <td>0.0</td>\n",
       "      <td>0.0</td>\n",
       "    </tr>\n",
       "    <tr>\n",
       "      <th>4692</th>\n",
       "      <td>0.0</td>\n",
       "      <td>0.0</td>\n",
       "      <td>1.0</td>\n",
       "      <td>0.0</td>\n",
       "      <td>0.0</td>\n",
       "      <td>0.0</td>\n",
       "      <td>0.0</td>\n",
       "    </tr>\n",
       "  </tbody>\n",
       "</table>\n",
       "</div>"
      ]
     },
     "metadata": {
      "application/vnd.databricks.v1+output": {
       "addedWidgets": {},
       "arguments": {},
       "data": "<div>\n<style scoped>\n    .dataframe tbody tr th:only-of-type {\n        vertical-align: middle;\n    }\n\n    .dataframe tbody tr th {\n        vertical-align: top;\n    }\n\n    .dataframe thead th {\n        text-align: right;\n    }\n</style>\n<table border=\"1\" class=\"dataframe\">\n  <thead>\n    <tr style=\"text-align: right;\">\n      <th></th>\n      <th>Gender_Male</th>\n      <th>Gender_Other</th>\n      <th>Education Level_Bachelor's Degree</th>\n      <th>Education Level_High School</th>\n      <th>Education Level_Master's</th>\n      <th>Education Level_Master's Degree</th>\n      <th>Education Level_PhD</th>\n    </tr>\n  </thead>\n  <tbody>\n    <tr>\n      <th>1269</th>\n      <td>1.0</td>\n      <td>0.0</td>\n      <td>0.0</td>\n      <td>0.0</td>\n      <td>0.0</td>\n      <td>0.0</td>\n      <td>1.0</td>\n    </tr>\n    <tr>\n      <th>5735</th>\n      <td>0.0</td>\n      <td>0.0</td>\n      <td>0.0</td>\n      <td>0.0</td>\n      <td>0.0</td>\n      <td>1.0</td>\n      <td>0.0</td>\n    </tr>\n    <tr>\n      <th>1787</th>\n      <td>0.0</td>\n      <td>0.0</td>\n      <td>1.0</td>\n      <td>0.0</td>\n      <td>0.0</td>\n      <td>0.0</td>\n      <td>0.0</td>\n    </tr>\n    <tr>\n      <th>422</th>\n      <td>0.0</td>\n      <td>0.0</td>\n      <td>0.0</td>\n      <td>0.0</td>\n      <td>0.0</td>\n      <td>0.0</td>\n      <td>0.0</td>\n    </tr>\n    <tr>\n      <th>4692</th>\n      <td>0.0</td>\n      <td>0.0</td>\n      <td>1.0</td>\n      <td>0.0</td>\n      <td>0.0</td>\n      <td>0.0</td>\n      <td>0.0</td>\n    </tr>\n  </tbody>\n</table>\n</div>",
       "datasetInfos": [],
       "metadata": {},
       "removedWidgets": [],
       "textData": null,
       "type": "htmlSandbox"
      }
     },
     "output_type": "display_data"
    }
   ],
   "source": [
    "X_test_category.head()"
   ]
  },
  {
   "cell_type": "code",
   "execution_count": 0,
   "metadata": {
    "application/vnd.databricks.v1+cell": {
     "cellMetadata": {
      "byteLimit": 2048000,
      "rowLimit": 10000
     },
     "inputWidgets": {},
     "nuid": "0fb1a092-96dc-407c-aa07-2a37ec54ed3d",
     "showTitle": false,
     "title": ""
    }
   },
   "outputs": [],
   "source": [
    "X_test_scaled = pd.concat([X_test_category,X_test_numeric],axis=1)"
   ]
  },
  {
   "cell_type": "code",
   "execution_count": 0,
   "metadata": {
    "application/vnd.databricks.v1+cell": {
     "cellMetadata": {
      "byteLimit": 2048000,
      "rowLimit": 10000
     },
     "inputWidgets": {},
     "nuid": "a5f6808d-b959-4e23-8913-455e555ecb7e",
     "showTitle": false,
     "title": ""
    }
   },
   "outputs": [],
   "source": [
    "from sklearn.metrics import mean_squared_error \n",
    "from sklearn.ensemble import RandomForestRegressor "
   ]
  },
  {
   "cell_type": "code",
   "execution_count": 0,
   "metadata": {
    "application/vnd.databricks.v1+cell": {
     "cellMetadata": {
      "byteLimit": 2048000,
      "rowLimit": 10000
     },
     "inputWidgets": {},
     "nuid": "e774598c-d42c-47bf-89b3-00e52226019f",
     "showTitle": false,
     "title": ""
    }
   },
   "outputs": [
    {
     "output_type": "stream",
     "name": "stdout",
     "output_type": "stream",
     "text": [
      "Out[47]: RandomForestRegressor(n_estimators=10, random_state=0)"
     ]
    }
   ],
   "source": [
    "model = RandomForestRegressor(n_estimators = 10, random_state = 0)\n",
    "model.fit(X_train_scaled, y_train)"
   ]
  },
  {
   "cell_type": "code",
   "execution_count": 0,
   "metadata": {
    "application/vnd.databricks.v1+cell": {
     "cellMetadata": {
      "byteLimit": 2048000,
      "rowLimit": 10000
     },
     "inputWidgets": {},
     "nuid": "962d98d5-60c3-46d7-afc0-78e902ea0aca",
     "showTitle": false,
     "title": ""
    }
   },
   "outputs": [],
   "source": [
    "y_pred = model.predict(X_test_scaled)\n",
    "rmse = mean_squared_error(y_test, y_pred)"
   ]
  },
  {
   "cell_type": "code",
   "execution_count": 0,
   "metadata": {
    "application/vnd.databricks.v1+cell": {
     "cellMetadata": {},
     "inputWidgets": {},
     "nuid": "6f396573-f367-4069-8900-4db30695b0f2",
     "showTitle": false,
     "title": ""
    }
   },
   "outputs": [],
   "source": []
  }
 ],
 "metadata": {
  "application/vnd.databricks.v1+notebook": {
   "dashboards": [],
   "language": "python",
   "notebookMetadata": {
    "mostRecentlyExecutedCommandWithImplicitDF": {
     "commandId": 4257946579346464,
     "dataframes": [
      "_sqldf"
     ]
    },
    "pythonIndentUnit": 4
   },
   "notebookName": "Ml basic model",
   "widgets": {}
  }
 },
 "nbformat": 4,
 "nbformat_minor": 0
}
